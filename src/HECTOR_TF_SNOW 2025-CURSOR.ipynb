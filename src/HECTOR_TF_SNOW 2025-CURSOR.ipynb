{
 "cells": [
  {
   "cell_type": "markdown",
   "id": "e81eda3a-7598-4864-8307-5cfe09af9473",
   "metadata": {
    "collapsed": false,
    "name": "cell7"
   },
   "source": [
    "# Configuration of session and API endpoints"
   ]
  },
  {
   "cell_type": "code",
   "execution_count": 1,
   "id": "f8840890",
   "metadata": {},
   "outputs": [
    {
     "name": "stdout",
     "output_type": "stream",
     "text": [
      "<snowflake.connector.cursor.SnowflakeCursor object at 0x111e875c0>\n"
     ]
    }
   ],
   "source": [
    "import os\n",
    "import snowflake.connector\n",
    "from dotenv import load_dotenv\n",
    "import json\n",
    "import requests\n",
    "import pandas as pd\n",
    "from typing import Dict, List, Optional, Tuple, Union\n",
    "\n",
    "load_dotenv()\n",
    "# Panda settings\n",
    "pd.set_option('display.max_columns', None)\n",
    "pd.set_option('display.max_rows', None)\n",
    "pd.set_option('display.max_colwidth', None)  # or a specific number like 1000\n",
    "pd.set_option('display.expand_frame_repr', False)\n",
    "\n",
    "def get_snowflake_connection():  \n",
    "    conn = snowflake.connector.connect(\n",
    "        user=os.getenv(\"SNOWFLAKE_USER\"),\n",
    "        password=os.getenv(\"SNOWFLAKE_PASSWORD\"),\n",
    "        account=os.getenv(\"SNOWFLAKE_ACCOUNT\"),\n",
    "        warehouse=os.getenv(\"SNOWFLAKE_WAREHOUSE\"),\n",
    "        database=os.getenv(\"SNOWFLAKE_DATABASE\"),\n",
    "        schema=os.getenv(\"SNOWFLAKE_SCHEMA\"),\n",
    "        host=os.getenv(\"SNOWFLAKE_HOST\"),\n",
    "        role=os.getenv(\"SNOWFLAKE_ROLE\"),\n",
    "        )\n",
    "    return conn\n",
    "\n",
    "# code for the analyst app \n",
    "# configurate the used API\n",
    "AVAILABLE_SEMANTIC_MODELS_PATHS = [\n",
    "    \"DAYUSE_ANALYTICS.STREAMLIT_APPS.STREAMLIT_STAGE/customer_360.yaml\"\n",
    "]\n",
    "API_ENDPOINT = \"/api/v2/cortex/analyst/message\"\n",
    "FEEDBACK_API_ENDPOINT = \"/api/v2/cortex/analyst/feedback\"\n",
    "API_TIMEOUT = 50000  # in milliseconds\n",
    "\n",
    "conn = get_snowflake_connection()\n",
    "cur = conn.cursor()\n",
    "#test connection\n",
    "print(cur.execute(\"select 1\"))\n"
   ]
  },
  {
   "cell_type": "markdown",
   "id": "19d87108",
   "metadata": {},
   "source": [
    "# 🧪 Tests with connector functions"
   ]
  },
  {
   "cell_type": "markdown",
   "id": "0793f70c",
   "metadata": {},
   "source": [
    "### Is cortex analytics app available trough this connection : YES"
   ]
  },
  {
   "cell_type": "code",
   "execution_count": 14,
   "id": "29c6e305",
   "metadata": {},
   "outputs": [
    {
     "name": "stdout",
     "output_type": "stream",
     "text": [
      "{'message': {'role': 'user', 'content': [{'type': 'text', 'text': 'Hello, how are you?'}]}, 'semantic_model_file': '@DAYUSE_ANALYTICS.STREAMLIT_APPS.STREAMLIT_STAGE/customer_360.yaml', 'stream': True}\n"
     ]
    }
   ],
   "source": [
    "#construire le mesage en fonction du role et du contenu\n",
    "def get_message(role, content:str):    \n",
    "    m: dict[str, Any] = {}\n",
    "    if role == \"user\":\n",
    "        m[\"role\"] = \"user\"\n",
    "    else:\n",
    "        m[\"role\"] = \"analyst\"\n",
    "    text_content = \"\\n\".join([c for c in content if isinstance(c, str)])\n",
    "    m[\"content\"] = [{\"type\": \"text\", \"text\": text_content}]\n",
    "    return m\n",
    "\n",
    "# construire conversation en fonction du message\n",
    "def get_conversation(messages: List[Dict]):\n",
    "    # itère sur la liste de messages et construit la conversation\n",
    "    return [get_message(m[\"role\"], m[\"content\"]) for m in messages]\n",
    "\n",
    "\n",
    "# envoyer la requete à l'API\n",
    "# only one messsage for the demo\n",
    "def send_request(messages: List[Dict]):\n",
    "    request_body = {\n",
    "        \"message\": {\"role\": \"user\", \"content\": [{\"type\": \"text\", \"text\": \"Hello, how are you?\"}]},\n",
    "        \"semantic_model_file\": f\"@{AVAILABLE_SEMANTIC_MODELS_PATHS[0]}\",\n",
    "        \"stream\": True, \n",
    "    }\n",
    "    print(request_body)\n",
    "    resp = requests.post(\n",
    "        url=f\"https://{conn.host}/api/v2/cortex/analyst/message\",\n",
    "        json=request_body,\n",
    "        headers={\n",
    "            \"Authorization\": f'Snowflake Token=\"{conn.rest.token}\"',\n",
    "            \"Content-Type\": \"application/json\",\n",
    "        },\n",
    "        stream=True,\n",
    "    )\n",
    "    if resp.status_code < 400:\n",
    "        return resp  # type: ignore\n",
    "    else:\n",
    "        raise Exception(f\"Failed request with status {resp.status_code}: {resp.text}\")\n",
    "    \n",
    "\n",
    "# create a test conversation\n",
    "messages = [\n",
    "    {\"role\": \"user\", \"content\": [{\"type\": \"text\", \"text\": \"Hello, how are you?\"}]},\n",
    "    {\"role\": \"analyst\", \"content\": [{\"type\": \"text\", \"text\": \"I'm fine, thank you!\"}]},\n",
    "    {\"role\": \"user\", \"content\": [{\"type\": \"text\", \"text\": \"What is the capital of France ?\"}]},\n",
    "]\n",
    "\n",
    "# get the response from the API\n",
    "response = send_request()"
   ]
  },
  {
   "cell_type": "markdown",
   "id": "c023bc16",
   "metadata": {},
   "source": [
    "### Tests to do sql queries from the external env``\n"
   ]
  },
  {
   "cell_type": "code",
   "execution_count": 15,
   "id": "5c666410",
   "metadata": {},
   "outputs": [
    {
     "name": "stdout",
     "output_type": "stream",
     "text": [
      "[(7816052,), (7799287,), (7820036,)]\n"
     ]
    }
   ],
   "source": [
    "#test the sql query\n",
    "sql_query = \"\"\" \n",
    "WITH __dim_order AS (  \n",
    "  SELECT  \n",
    "    customer_id,  \n",
    "    hotel_id,  \n",
    "    checkin_date  \n",
    "  FROM dayuse_analytics.analytics.dim_order  \n",
    "), __dim_hotel AS (  \n",
    "  SELECT  \n",
    "    hotel_id,  \n",
    "    hotel_country,  \n",
    "    city  \n",
    "  FROM dayuse_analytics.analytics.dim_hotel  \n",
    "), paris_stays AS (  \n",
    "  SELECT DISTINCT  \n",
    "    o.customer_id,  \n",
    "    MAX(o.checkin_date) AS latest_checkin  \n",
    "  FROM __dim_order AS o  \n",
    "  LEFT OUTER JOIN __dim_hotel AS h  \n",
    "    ON o.hotel_id = h.hotel_id  \n",
    "  WHERE  \n",
    "    h.city = 'Paris' AND h.hotel_country = 'France'  \n",
    "  GROUP BY  \n",
    "    o.customer_id  \n",
    ")  \n",
    "SELECT  \n",
    "  ps.customer_id  \n",
    "FROM paris_stays AS ps  \n",
    "ORDER BY  \n",
    "  ps.latest_checkin DESC NULLS LAST  \n",
    "LIMIT 3\n",
    "\"\"\"\n",
    "print(cur.execute(sql_query).fetchall())\n"
   ]
  },
  {
   "cell_type": "markdown",
   "id": "7350421a",
   "metadata": {},
   "source": [
    "### Tests to call the snowflake LLMs (LLMs running in Snowflake)"
   ]
  },
  {
   "cell_type": "code",
   "execution_count": 16,
   "id": "b424c121",
   "metadata": {},
   "outputs": [
    {
     "ename": "KeyboardInterrupt",
     "evalue": "",
     "output_type": "error",
     "traceback": [
      "\u001b[0;31m---------------------------------------------------------------------------\u001b[0m",
      "\u001b[0;31mKeyboardInterrupt\u001b[0m                         Traceback (most recent call last)",
      "Cell \u001b[0;32mIn[16], line 21\u001b[0m\n\u001b[1;32m     18\u001b[0m             \u001b[38;5;28mprint\u001b[39m(\u001b[38;5;124mf\u001b[39m\u001b[38;5;124m\"\u001b[39m\u001b[38;5;124mSnowflake Query ID: \u001b[39m\u001b[38;5;132;01m{\u001b[39;00me\u001b[38;5;241m.\u001b[39msfqid\u001b[38;5;132;01m}\u001b[39;00m\u001b[38;5;124m\"\u001b[39m)\n\u001b[1;32m     19\u001b[0m         \u001b[38;5;28;01mreturn\u001b[39;00m \u001b[38;5;28;01mNone\u001b[39;00m\n\u001b[0;32m---> 21\u001b[0m \u001b[43mcall_cortex_complete\u001b[49m\u001b[43m(\u001b[49m\u001b[43mcur\u001b[49m\u001b[43m,\u001b[49m\u001b[43m \u001b[49m\n\u001b[1;32m     22\u001b[0m \u001b[38;5;250;43m                    \u001b[39;49m\u001b[38;5;124;43;03m\"\"\"[\u001b[39;49;00m\n\u001b[1;32m     23\u001b[0m \u001b[38;5;124;43;03m            {{'role': 'system', 'content': 'You are a helpful AI assistant that is writing some emails.' }},\u001b[39;49;00m\n\u001b[1;32m     24\u001b[0m \u001b[38;5;124;43;03m            {{'role': 'user', 'content': '{placeholder}' }}\"\"\"\u001b[39;49;00m\u001b[43m,\u001b[49m\n\u001b[1;32m     25\u001b[0m \u001b[43m                    \u001b[49m\u001b[38;5;124;43m'\u001b[39;49m\u001b[38;5;124;43mmistral-7b\u001b[39;49m\u001b[38;5;124;43m'\u001b[39;49m\n\u001b[1;32m     26\u001b[0m \u001b[43m                    \u001b[49m\u001b[43m)\u001b[49m\n",
      "Cell \u001b[0;32mIn[16], line 8\u001b[0m, in \u001b[0;36mcall_cortex_complete\u001b[0;34m(cursor, prompt, model)\u001b[0m\n\u001b[1;32m      6\u001b[0m query \u001b[38;5;241m=\u001b[39m \u001b[38;5;124m\"\u001b[39m\u001b[38;5;124mSELECT SNOWFLAKE.CORTEX.COMPLETE(\u001b[39m\u001b[38;5;132;01m%s\u001b[39;00m\u001b[38;5;124m, \u001b[39m\u001b[38;5;132;01m%s\u001b[39;00m\u001b[38;5;124m) AS response;\u001b[39m\u001b[38;5;124m\"\u001b[39m\n\u001b[1;32m      7\u001b[0m \u001b[38;5;66;03m# print(f\"Executing Cortex query with model='{model}', prompt='{prompt[:100]}...'\") # For debugging\u001b[39;00m\n\u001b[0;32m----> 8\u001b[0m \u001b[43mcursor\u001b[49m\u001b[38;5;241;43m.\u001b[39;49m\u001b[43mexecute\u001b[49m\u001b[43m(\u001b[49m\u001b[43mquery\u001b[49m\u001b[43m,\u001b[49m\u001b[43m \u001b[49m\u001b[43m(\u001b[49m\u001b[43mmodel\u001b[49m\u001b[43m,\u001b[49m\u001b[43m \u001b[49m\u001b[43mprompt\u001b[49m\u001b[43m)\u001b[49m\u001b[43m)\u001b[49m\n\u001b[1;32m      9\u001b[0m result \u001b[38;5;241m=\u001b[39m cursor\u001b[38;5;241m.\u001b[39mfetchone()\n\u001b[1;32m     10\u001b[0m \u001b[38;5;28;01mif\u001b[39;00m result \u001b[38;5;129;01mand\u001b[39;00m result[\u001b[38;5;241m0\u001b[39m]:\n",
      "File \u001b[0;32m~/Dev/Snowflake-Mailing/venv/lib/python3.12/site-packages/snowflake/connector/cursor.py:1016\u001b[0m, in \u001b[0;36mSnowflakeCursor.execute\u001b[0;34m(self, command, params, _bind_stage, timeout, _exec_async, _no_retry, _do_reset, _put_callback, _put_azure_callback, _put_callback_output_stream, _get_callback, _get_azure_callback, _get_callback_output_stream, _show_progress_bar, _statement_params, _is_internal, _describe_only, _no_results, _is_put_get, _raise_put_get_error, _force_put_overwrite, _skip_upload_on_content_match, file_stream, num_statements, _force_qmark_paramstyle, _dataframe_ast)\u001b[0m\n\u001b[1;32m   1009\u001b[0m     logger\u001b[38;5;241m.\u001b[39mdebug(\n\u001b[1;32m   1010\u001b[0m         \u001b[38;5;124m\"\u001b[39m\u001b[38;5;124mquery was rewritten: org=\u001b[39m\u001b[38;5;132;01m%s\u001b[39;00m\u001b[38;5;124m, new=\u001b[39m\u001b[38;5;132;01m%s\u001b[39;00m\u001b[38;5;124m\"\u001b[39m,\n\u001b[1;32m   1011\u001b[0m         \u001b[38;5;124m\"\u001b[39m\u001b[38;5;124m \u001b[39m\u001b[38;5;124m\"\u001b[39m\u001b[38;5;241m.\u001b[39mjoin(line\u001b[38;5;241m.\u001b[39mstrip() \u001b[38;5;28;01mfor\u001b[39;00m line \u001b[38;5;129;01min\u001b[39;00m query\u001b[38;5;241m.\u001b[39msplit(\u001b[38;5;124m\"\u001b[39m\u001b[38;5;130;01m\\n\u001b[39;00m\u001b[38;5;124m\"\u001b[39m)),\n\u001b[1;32m   1012\u001b[0m         query1,\n\u001b[1;32m   1013\u001b[0m     )\n\u001b[1;32m   1014\u001b[0m     query \u001b[38;5;241m=\u001b[39m query1\n\u001b[0;32m-> 1016\u001b[0m ret \u001b[38;5;241m=\u001b[39m \u001b[38;5;28;43mself\u001b[39;49m\u001b[38;5;241;43m.\u001b[39;49m\u001b[43m_execute_helper\u001b[49m\u001b[43m(\u001b[49m\u001b[43mquery\u001b[49m\u001b[43m,\u001b[49m\u001b[43m \u001b[49m\u001b[38;5;241;43m*\u001b[39;49m\u001b[38;5;241;43m*\u001b[39;49m\u001b[43mkwargs\u001b[49m\u001b[43m)\u001b[49m\n\u001b[1;32m   1017\u001b[0m \u001b[38;5;28mself\u001b[39m\u001b[38;5;241m.\u001b[39m_sfqid \u001b[38;5;241m=\u001b[39m (\n\u001b[1;32m   1018\u001b[0m     ret[\u001b[38;5;124m\"\u001b[39m\u001b[38;5;124mdata\u001b[39m\u001b[38;5;124m\"\u001b[39m][\u001b[38;5;124m\"\u001b[39m\u001b[38;5;124mqueryId\u001b[39m\u001b[38;5;124m\"\u001b[39m]\n\u001b[1;32m   1019\u001b[0m     \u001b[38;5;28;01mif\u001b[39;00m \u001b[38;5;124m\"\u001b[39m\u001b[38;5;124mdata\u001b[39m\u001b[38;5;124m\"\u001b[39m \u001b[38;5;129;01min\u001b[39;00m ret \u001b[38;5;129;01mand\u001b[39;00m \u001b[38;5;124m\"\u001b[39m\u001b[38;5;124mqueryId\u001b[39m\u001b[38;5;124m\"\u001b[39m \u001b[38;5;129;01min\u001b[39;00m ret[\u001b[38;5;124m\"\u001b[39m\u001b[38;5;124mdata\u001b[39m\u001b[38;5;124m\"\u001b[39m]\n\u001b[1;32m   1020\u001b[0m     \u001b[38;5;28;01melse\u001b[39;00m \u001b[38;5;28;01mNone\u001b[39;00m\n\u001b[1;32m   1021\u001b[0m )\n\u001b[1;32m   1022\u001b[0m logger\u001b[38;5;241m.\u001b[39mdebug(\u001b[38;5;124mf\u001b[39m\u001b[38;5;124m\"\u001b[39m\u001b[38;5;124msfqid: \u001b[39m\u001b[38;5;132;01m{\u001b[39;00m\u001b[38;5;28mself\u001b[39m\u001b[38;5;241m.\u001b[39msfqid\u001b[38;5;132;01m}\u001b[39;00m\u001b[38;5;124m\"\u001b[39m)\n",
      "File \u001b[0;32m~/Dev/Snowflake-Mailing/venv/lib/python3.12/site-packages/snowflake/connector/cursor.py:722\u001b[0m, in \u001b[0;36mSnowflakeCursor._execute_helper\u001b[0;34m(self, query, timeout, statement_params, binding_params, binding_stage, is_internal, describe_only, _no_results, _is_put_get, _no_retry, dataframe_ast)\u001b[0m\n\u001b[1;32m    720\u001b[0m ret: \u001b[38;5;28mdict\u001b[39m[\u001b[38;5;28mstr\u001b[39m, Any] \u001b[38;5;241m=\u001b[39m {\u001b[38;5;124m\"\u001b[39m\u001b[38;5;124mdata\u001b[39m\u001b[38;5;124m\"\u001b[39m: {}}\n\u001b[1;32m    721\u001b[0m \u001b[38;5;28;01mtry\u001b[39;00m:\n\u001b[0;32m--> 722\u001b[0m     ret \u001b[38;5;241m=\u001b[39m \u001b[38;5;28;43mself\u001b[39;49m\u001b[38;5;241;43m.\u001b[39;49m\u001b[43m_connection\u001b[49m\u001b[38;5;241;43m.\u001b[39;49m\u001b[43mcmd_query\u001b[49m\u001b[43m(\u001b[49m\n\u001b[1;32m    723\u001b[0m \u001b[43m        \u001b[49m\u001b[43mquery\u001b[49m\u001b[43m,\u001b[49m\n\u001b[1;32m    724\u001b[0m \u001b[43m        \u001b[49m\u001b[38;5;28;43mself\u001b[39;49m\u001b[38;5;241;43m.\u001b[39;49m\u001b[43m_sequence_counter\u001b[49m\u001b[43m,\u001b[49m\n\u001b[1;32m    725\u001b[0m \u001b[43m        \u001b[49m\u001b[38;5;28;43mself\u001b[39;49m\u001b[38;5;241;43m.\u001b[39;49m\u001b[43m_request_id\u001b[49m\u001b[43m,\u001b[49m\n\u001b[1;32m    726\u001b[0m \u001b[43m        \u001b[49m\u001b[43mbinding_params\u001b[49m\u001b[38;5;241;43m=\u001b[39;49m\u001b[43mbinding_params\u001b[49m\u001b[43m,\u001b[49m\n\u001b[1;32m    727\u001b[0m \u001b[43m        \u001b[49m\u001b[43mbinding_stage\u001b[49m\u001b[38;5;241;43m=\u001b[39;49m\u001b[43mbinding_stage\u001b[49m\u001b[43m,\u001b[49m\n\u001b[1;32m    728\u001b[0m \u001b[43m        \u001b[49m\u001b[43mis_file_transfer\u001b[49m\u001b[38;5;241;43m=\u001b[39;49m\u001b[38;5;28;43mbool\u001b[39;49m\u001b[43m(\u001b[49m\u001b[38;5;28;43mself\u001b[39;49m\u001b[38;5;241;43m.\u001b[39;49m\u001b[43m_is_file_transfer\u001b[49m\u001b[43m)\u001b[49m\u001b[43m,\u001b[49m\n\u001b[1;32m    729\u001b[0m \u001b[43m        \u001b[49m\u001b[43mstatement_params\u001b[49m\u001b[38;5;241;43m=\u001b[39;49m\u001b[43mstatement_params\u001b[49m\u001b[43m,\u001b[49m\n\u001b[1;32m    730\u001b[0m \u001b[43m        \u001b[49m\u001b[43mis_internal\u001b[49m\u001b[38;5;241;43m=\u001b[39;49m\u001b[43mis_internal\u001b[49m\u001b[43m,\u001b[49m\n\u001b[1;32m    731\u001b[0m \u001b[43m        \u001b[49m\u001b[43mdescribe_only\u001b[49m\u001b[38;5;241;43m=\u001b[39;49m\u001b[43mdescribe_only\u001b[49m\u001b[43m,\u001b[49m\n\u001b[1;32m    732\u001b[0m \u001b[43m        \u001b[49m\u001b[43m_no_results\u001b[49m\u001b[38;5;241;43m=\u001b[39;49m\u001b[43m_no_results\u001b[49m\u001b[43m,\u001b[49m\n\u001b[1;32m    733\u001b[0m \u001b[43m        \u001b[49m\u001b[43m_no_retry\u001b[49m\u001b[38;5;241;43m=\u001b[39;49m\u001b[43m_no_retry\u001b[49m\u001b[43m,\u001b[49m\n\u001b[1;32m    734\u001b[0m \u001b[43m        \u001b[49m\u001b[43mtimeout\u001b[49m\u001b[38;5;241;43m=\u001b[39;49m\u001b[43mreal_timeout\u001b[49m\u001b[43m,\u001b[49m\n\u001b[1;32m    735\u001b[0m \u001b[43m        \u001b[49m\u001b[43mdataframe_ast\u001b[49m\u001b[38;5;241;43m=\u001b[39;49m\u001b[43mdataframe_ast\u001b[49m\u001b[43m,\u001b[49m\n\u001b[1;32m    736\u001b[0m \u001b[43m    \u001b[49m\u001b[43m)\u001b[49m\n\u001b[1;32m    737\u001b[0m \u001b[38;5;28;01mfinally\u001b[39;00m:\n\u001b[1;32m    738\u001b[0m     \u001b[38;5;28;01mtry\u001b[39;00m:\n",
      "File \u001b[0;32m~/Dev/Snowflake-Mailing/venv/lib/python3.12/site-packages/snowflake/connector/connection.py:1579\u001b[0m, in \u001b[0;36mSnowflakeConnection.cmd_query\u001b[0;34m(self, sql, sequence_counter, request_id, binding_params, binding_stage, is_file_transfer, statement_params, is_internal, describe_only, _no_results, _update_current_object, _no_retry, timeout, dataframe_ast)\u001b[0m\n\u001b[1;32m   1570\u001b[0m     logger\u001b[38;5;241m.\u001b[39mdebug(\n\u001b[1;32m   1571\u001b[0m         \u001b[38;5;124m\"\u001b[39m\u001b[38;5;124msql=[\u001b[39m\u001b[38;5;132;01m%s\u001b[39;00m\u001b[38;5;124m], sequence_id=[\u001b[39m\u001b[38;5;132;01m%s\u001b[39;00m\u001b[38;5;124m], is_file_transfer=[\u001b[39m\u001b[38;5;132;01m%s\u001b[39;00m\u001b[38;5;124m]\u001b[39m\u001b[38;5;124m\"\u001b[39m,\n\u001b[1;32m   1572\u001b[0m         \u001b[38;5;28mself\u001b[39m\u001b[38;5;241m.\u001b[39m_format_query_for_log(data[\u001b[38;5;124m\"\u001b[39m\u001b[38;5;124msqlText\u001b[39m\u001b[38;5;124m\"\u001b[39m]),\n\u001b[1;32m   1573\u001b[0m         data[\u001b[38;5;124m\"\u001b[39m\u001b[38;5;124msequenceId\u001b[39m\u001b[38;5;124m\"\u001b[39m],\n\u001b[1;32m   1574\u001b[0m         is_file_transfer,\n\u001b[1;32m   1575\u001b[0m     )\n\u001b[1;32m   1577\u001b[0m url_parameters \u001b[38;5;241m=\u001b[39m {REQUEST_ID: request_id}\n\u001b[0;32m-> 1579\u001b[0m ret \u001b[38;5;241m=\u001b[39m \u001b[38;5;28;43mself\u001b[39;49m\u001b[38;5;241;43m.\u001b[39;49m\u001b[43mrest\u001b[49m\u001b[38;5;241;43m.\u001b[39;49m\u001b[43mrequest\u001b[49m\u001b[43m(\u001b[49m\n\u001b[1;32m   1580\u001b[0m \u001b[43m    \u001b[49m\u001b[38;5;124;43m\"\u001b[39;49m\u001b[38;5;124;43m/queries/v1/query-request?\u001b[39;49m\u001b[38;5;124;43m\"\u001b[39;49m\u001b[43m \u001b[49m\u001b[38;5;241;43m+\u001b[39;49m\u001b[43m \u001b[49m\u001b[43murlencode\u001b[49m\u001b[43m(\u001b[49m\u001b[43murl_parameters\u001b[49m\u001b[43m)\u001b[49m\u001b[43m,\u001b[49m\n\u001b[1;32m   1581\u001b[0m \u001b[43m    \u001b[49m\u001b[43mdata\u001b[49m\u001b[43m,\u001b[49m\n\u001b[1;32m   1582\u001b[0m \u001b[43m    \u001b[49m\u001b[43mclient\u001b[49m\u001b[38;5;241;43m=\u001b[39;49m\u001b[43mclient\u001b[49m\u001b[43m,\u001b[49m\n\u001b[1;32m   1583\u001b[0m \u001b[43m    \u001b[49m\u001b[43m_no_results\u001b[49m\u001b[38;5;241;43m=\u001b[39;49m\u001b[43m_no_results\u001b[49m\u001b[43m,\u001b[49m\n\u001b[1;32m   1584\u001b[0m \u001b[43m    \u001b[49m\u001b[43m_include_retry_params\u001b[49m\u001b[38;5;241;43m=\u001b[39;49m\u001b[38;5;28;43;01mTrue\u001b[39;49;00m\u001b[43m,\u001b[49m\n\u001b[1;32m   1585\u001b[0m \u001b[43m    \u001b[49m\u001b[43m_no_retry\u001b[49m\u001b[38;5;241;43m=\u001b[39;49m\u001b[43m_no_retry\u001b[49m\u001b[43m,\u001b[49m\n\u001b[1;32m   1586\u001b[0m \u001b[43m    \u001b[49m\u001b[43mtimeout\u001b[49m\u001b[38;5;241;43m=\u001b[39;49m\u001b[43mtimeout\u001b[49m\u001b[43m,\u001b[49m\n\u001b[1;32m   1587\u001b[0m \u001b[43m\u001b[49m\u001b[43m)\u001b[49m\n\u001b[1;32m   1589\u001b[0m \u001b[38;5;28;01mif\u001b[39;00m ret \u001b[38;5;129;01mis\u001b[39;00m \u001b[38;5;28;01mNone\u001b[39;00m:\n\u001b[1;32m   1590\u001b[0m     ret \u001b[38;5;241m=\u001b[39m {\u001b[38;5;124m\"\u001b[39m\u001b[38;5;124mdata\u001b[39m\u001b[38;5;124m\"\u001b[39m: {}}\n",
      "File \u001b[0;32m~/Dev/Snowflake-Mailing/venv/lib/python3.12/site-packages/snowflake/connector/network.py:511\u001b[0m, in \u001b[0;36mSnowflakeRestful.request\u001b[0;34m(self, url, body, method, client, timeout, _no_results, _include_retry_params, _no_retry)\u001b[0m\n\u001b[1;32m    509\u001b[0m     headers[HTTP_HEADER_SERVICE_NAME] \u001b[38;5;241m=\u001b[39m \u001b[38;5;28mself\u001b[39m\u001b[38;5;241m.\u001b[39m_connection\u001b[38;5;241m.\u001b[39mservice_name\n\u001b[1;32m    510\u001b[0m \u001b[38;5;28;01mif\u001b[39;00m method \u001b[38;5;241m==\u001b[39m \u001b[38;5;124m\"\u001b[39m\u001b[38;5;124mpost\u001b[39m\u001b[38;5;124m\"\u001b[39m:\n\u001b[0;32m--> 511\u001b[0m     \u001b[38;5;28;01mreturn\u001b[39;00m \u001b[38;5;28;43mself\u001b[39;49m\u001b[38;5;241;43m.\u001b[39;49m\u001b[43m_post_request\u001b[49m\u001b[43m(\u001b[49m\n\u001b[1;32m    512\u001b[0m \u001b[43m        \u001b[49m\u001b[43murl\u001b[49m\u001b[43m,\u001b[49m\n\u001b[1;32m    513\u001b[0m \u001b[43m        \u001b[49m\u001b[43mheaders\u001b[49m\u001b[43m,\u001b[49m\n\u001b[1;32m    514\u001b[0m \u001b[43m        \u001b[49m\u001b[43mjson\u001b[49m\u001b[38;5;241;43m.\u001b[39;49m\u001b[43mdumps\u001b[49m\u001b[43m(\u001b[49m\u001b[43mbody\u001b[49m\u001b[43m,\u001b[49m\u001b[43m \u001b[49m\u001b[38;5;28;43mcls\u001b[39;49m\u001b[38;5;241;43m=\u001b[39;49m\u001b[43mSnowflakeRestfulJsonEncoder\u001b[49m\u001b[43m)\u001b[49m\u001b[43m,\u001b[49m\n\u001b[1;32m    515\u001b[0m \u001b[43m        \u001b[49m\u001b[43mtoken\u001b[49m\u001b[38;5;241;43m=\u001b[39;49m\u001b[38;5;28;43mself\u001b[39;49m\u001b[38;5;241;43m.\u001b[39;49m\u001b[43mtoken\u001b[49m\u001b[43m,\u001b[49m\n\u001b[1;32m    516\u001b[0m \u001b[43m        \u001b[49m\u001b[43m_no_results\u001b[49m\u001b[38;5;241;43m=\u001b[39;49m\u001b[43m_no_results\u001b[49m\u001b[43m,\u001b[49m\n\u001b[1;32m    517\u001b[0m \u001b[43m        \u001b[49m\u001b[43mtimeout\u001b[49m\u001b[38;5;241;43m=\u001b[39;49m\u001b[43mtimeout\u001b[49m\u001b[43m,\u001b[49m\n\u001b[1;32m    518\u001b[0m \u001b[43m        \u001b[49m\u001b[43m_include_retry_params\u001b[49m\u001b[38;5;241;43m=\u001b[39;49m\u001b[43m_include_retry_params\u001b[49m\u001b[43m,\u001b[49m\n\u001b[1;32m    519\u001b[0m \u001b[43m        \u001b[49m\u001b[43mno_retry\u001b[49m\u001b[38;5;241;43m=\u001b[39;49m\u001b[43m_no_retry\u001b[49m\u001b[43m,\u001b[49m\n\u001b[1;32m    520\u001b[0m \u001b[43m    \u001b[49m\u001b[43m)\u001b[49m\n\u001b[1;32m    521\u001b[0m \u001b[38;5;28;01melse\u001b[39;00m:\n\u001b[1;32m    522\u001b[0m     \u001b[38;5;28;01mreturn\u001b[39;00m \u001b[38;5;28mself\u001b[39m\u001b[38;5;241m.\u001b[39m_get_request(\n\u001b[1;32m    523\u001b[0m         url,\n\u001b[1;32m    524\u001b[0m         headers,\n\u001b[1;32m    525\u001b[0m         token\u001b[38;5;241m=\u001b[39m\u001b[38;5;28mself\u001b[39m\u001b[38;5;241m.\u001b[39mtoken,\n\u001b[1;32m    526\u001b[0m         timeout\u001b[38;5;241m=\u001b[39mtimeout,\n\u001b[1;32m    527\u001b[0m     )\n",
      "File \u001b[0;32m~/Dev/Snowflake-Mailing/venv/lib/python3.12/site-packages/snowflake/connector/network.py:759\u001b[0m, in \u001b[0;36mSnowflakeRestful._post_request\u001b[0;34m(self, url, headers, body, token, timeout, socket_timeout, _no_results, no_retry, _include_retry_params)\u001b[0m\n\u001b[1;32m    756\u001b[0m     ret \u001b[38;5;241m=\u001b[39m probe_connection(full_url)\n\u001b[1;32m    757\u001b[0m     pprint(ret)\n\u001b[0;32m--> 759\u001b[0m ret \u001b[38;5;241m=\u001b[39m \u001b[38;5;28;43mself\u001b[39;49m\u001b[38;5;241;43m.\u001b[39;49m\u001b[43mfetch\u001b[49m\u001b[43m(\u001b[49m\n\u001b[1;32m    760\u001b[0m \u001b[43m    \u001b[49m\u001b[38;5;124;43m\"\u001b[39;49m\u001b[38;5;124;43mpost\u001b[39;49m\u001b[38;5;124;43m\"\u001b[39;49m\u001b[43m,\u001b[49m\n\u001b[1;32m    761\u001b[0m \u001b[43m    \u001b[49m\u001b[43mfull_url\u001b[49m\u001b[43m,\u001b[49m\n\u001b[1;32m    762\u001b[0m \u001b[43m    \u001b[49m\u001b[43mheaders\u001b[49m\u001b[43m,\u001b[49m\n\u001b[1;32m    763\u001b[0m \u001b[43m    \u001b[49m\u001b[43mdata\u001b[49m\u001b[38;5;241;43m=\u001b[39;49m\u001b[43mbody\u001b[49m\u001b[43m,\u001b[49m\n\u001b[1;32m    764\u001b[0m \u001b[43m    \u001b[49m\u001b[43mtimeout\u001b[49m\u001b[38;5;241;43m=\u001b[39;49m\u001b[43mtimeout\u001b[49m\u001b[43m,\u001b[49m\n\u001b[1;32m    765\u001b[0m \u001b[43m    \u001b[49m\u001b[43mtoken\u001b[49m\u001b[38;5;241;43m=\u001b[39;49m\u001b[43mtoken\u001b[49m\u001b[43m,\u001b[49m\n\u001b[1;32m    766\u001b[0m \u001b[43m    \u001b[49m\u001b[43mno_retry\u001b[49m\u001b[38;5;241;43m=\u001b[39;49m\u001b[43mno_retry\u001b[49m\u001b[43m,\u001b[49m\n\u001b[1;32m    767\u001b[0m \u001b[43m    \u001b[49m\u001b[43m_include_retry_params\u001b[49m\u001b[38;5;241;43m=\u001b[39;49m\u001b[43m_include_retry_params\u001b[49m\u001b[43m,\u001b[49m\n\u001b[1;32m    768\u001b[0m \u001b[43m    \u001b[49m\u001b[43msocket_timeout\u001b[49m\u001b[38;5;241;43m=\u001b[39;49m\u001b[43msocket_timeout\u001b[49m\u001b[43m,\u001b[49m\n\u001b[1;32m    769\u001b[0m \u001b[43m\u001b[49m\u001b[43m)\u001b[49m\n\u001b[1;32m    770\u001b[0m logger\u001b[38;5;241m.\u001b[39mdebug(\n\u001b[1;32m    771\u001b[0m     \u001b[38;5;124m\"\u001b[39m\u001b[38;5;124mret[code] = \u001b[39m\u001b[38;5;132;01m{code}\u001b[39;00m\u001b[38;5;124m, after post request\u001b[39m\u001b[38;5;124m\"\u001b[39m\u001b[38;5;241m.\u001b[39mformat(\n\u001b[1;32m    772\u001b[0m         code\u001b[38;5;241m=\u001b[39m(ret\u001b[38;5;241m.\u001b[39mget(\u001b[38;5;124m\"\u001b[39m\u001b[38;5;124mcode\u001b[39m\u001b[38;5;124m\"\u001b[39m, \u001b[38;5;124m\"\u001b[39m\u001b[38;5;124mN/A\u001b[39m\u001b[38;5;124m\"\u001b[39m))\n\u001b[1;32m    773\u001b[0m     )\n\u001b[1;32m    774\u001b[0m )\n\u001b[1;32m    776\u001b[0m \u001b[38;5;28;01mif\u001b[39;00m ret\u001b[38;5;241m.\u001b[39mget(\u001b[38;5;124m\"\u001b[39m\u001b[38;5;124mcode\u001b[39m\u001b[38;5;124m\"\u001b[39m) \u001b[38;5;241m==\u001b[39m MASTER_TOKEN_EXPIRED_GS_CODE:\n",
      "File \u001b[0;32m~/Dev/Snowflake-Mailing/venv/lib/python3.12/site-packages/snowflake/connector/network.py:874\u001b[0m, in \u001b[0;36mSnowflakeRestful.fetch\u001b[0;34m(self, method, full_url, headers, data, timeout, **kwargs)\u001b[0m\n\u001b[1;32m    872\u001b[0m retry_ctx\u001b[38;5;241m.\u001b[39mset_start_time()\n\u001b[1;32m    873\u001b[0m \u001b[38;5;28;01mwhile\u001b[39;00m \u001b[38;5;28;01mTrue\u001b[39;00m:\n\u001b[0;32m--> 874\u001b[0m     ret \u001b[38;5;241m=\u001b[39m \u001b[38;5;28;43mself\u001b[39;49m\u001b[38;5;241;43m.\u001b[39;49m\u001b[43m_request_exec_wrapper\u001b[49m\u001b[43m(\u001b[49m\n\u001b[1;32m    875\u001b[0m \u001b[43m        \u001b[49m\u001b[43msession\u001b[49m\u001b[43m,\u001b[49m\u001b[43m \u001b[49m\u001b[43mmethod\u001b[49m\u001b[43m,\u001b[49m\u001b[43m \u001b[49m\u001b[43mfull_url\u001b[49m\u001b[43m,\u001b[49m\u001b[43m \u001b[49m\u001b[43mheaders\u001b[49m\u001b[43m,\u001b[49m\u001b[43m \u001b[49m\u001b[43mdata\u001b[49m\u001b[43m,\u001b[49m\u001b[43m \u001b[49m\u001b[43mretry_ctx\u001b[49m\u001b[43m,\u001b[49m\u001b[43m \u001b[49m\u001b[38;5;241;43m*\u001b[39;49m\u001b[38;5;241;43m*\u001b[39;49m\u001b[43mkwargs\u001b[49m\n\u001b[1;32m    876\u001b[0m \u001b[43m    \u001b[49m\u001b[43m)\u001b[49m\n\u001b[1;32m    877\u001b[0m     \u001b[38;5;28;01mif\u001b[39;00m ret \u001b[38;5;129;01mis\u001b[39;00m \u001b[38;5;129;01mnot\u001b[39;00m \u001b[38;5;28;01mNone\u001b[39;00m:\n\u001b[1;32m    878\u001b[0m         \u001b[38;5;28;01mreturn\u001b[39;00m ret\n",
      "File \u001b[0;32m~/Dev/Snowflake-Mailing/venv/lib/python3.12/site-packages/snowflake/connector/network.py:924\u001b[0m, in \u001b[0;36mSnowflakeRestful._request_exec_wrapper\u001b[0;34m(self, session, method, full_url, headers, data, retry_ctx, no_retry, token, **kwargs)\u001b[0m\n\u001b[1;32m    922\u001b[0m raise_raw_http_failure \u001b[38;5;241m=\u001b[39m kwargs\u001b[38;5;241m.\u001b[39mpop(\u001b[38;5;124m\"\u001b[39m\u001b[38;5;124mraise_raw_http_failure\u001b[39m\u001b[38;5;124m\"\u001b[39m, \u001b[38;5;28;01mFalse\u001b[39;00m)\n\u001b[1;32m    923\u001b[0m \u001b[38;5;28;01mtry\u001b[39;00m:\n\u001b[0;32m--> 924\u001b[0m     return_object \u001b[38;5;241m=\u001b[39m \u001b[38;5;28;43mself\u001b[39;49m\u001b[38;5;241;43m.\u001b[39;49m\u001b[43m_request_exec\u001b[49m\u001b[43m(\u001b[49m\n\u001b[1;32m    925\u001b[0m \u001b[43m        \u001b[49m\u001b[43msession\u001b[49m\u001b[38;5;241;43m=\u001b[39;49m\u001b[43msession\u001b[49m\u001b[43m,\u001b[49m\n\u001b[1;32m    926\u001b[0m \u001b[43m        \u001b[49m\u001b[43mmethod\u001b[49m\u001b[38;5;241;43m=\u001b[39;49m\u001b[43mmethod\u001b[49m\u001b[43m,\u001b[49m\n\u001b[1;32m    927\u001b[0m \u001b[43m        \u001b[49m\u001b[43mfull_url\u001b[49m\u001b[38;5;241;43m=\u001b[39;49m\u001b[43mfull_url\u001b[49m\u001b[43m,\u001b[49m\n\u001b[1;32m    928\u001b[0m \u001b[43m        \u001b[49m\u001b[43mheaders\u001b[49m\u001b[38;5;241;43m=\u001b[39;49m\u001b[43mheaders\u001b[49m\u001b[43m,\u001b[49m\n\u001b[1;32m    929\u001b[0m \u001b[43m        \u001b[49m\u001b[43mdata\u001b[49m\u001b[38;5;241;43m=\u001b[39;49m\u001b[43mdata\u001b[49m\u001b[43m,\u001b[49m\n\u001b[1;32m    930\u001b[0m \u001b[43m        \u001b[49m\u001b[43mtoken\u001b[49m\u001b[38;5;241;43m=\u001b[39;49m\u001b[43mtoken\u001b[49m\u001b[43m,\u001b[49m\n\u001b[1;32m    931\u001b[0m \u001b[43m        \u001b[49m\u001b[43mraise_raw_http_failure\u001b[49m\u001b[38;5;241;43m=\u001b[39;49m\u001b[43mraise_raw_http_failure\u001b[49m\u001b[43m,\u001b[49m\n\u001b[1;32m    932\u001b[0m \u001b[43m        \u001b[49m\u001b[38;5;241;43m*\u001b[39;49m\u001b[38;5;241;43m*\u001b[39;49m\u001b[43mkwargs\u001b[49m\u001b[43m,\u001b[49m\n\u001b[1;32m    933\u001b[0m \u001b[43m    \u001b[49m\u001b[43m)\u001b[49m\n\u001b[1;32m    934\u001b[0m     \u001b[38;5;28;01mif\u001b[39;00m return_object \u001b[38;5;129;01mis\u001b[39;00m \u001b[38;5;129;01mnot\u001b[39;00m \u001b[38;5;28;01mNone\u001b[39;00m:\n\u001b[1;32m    935\u001b[0m         \u001b[38;5;28;01mreturn\u001b[39;00m return_object\n",
      "File \u001b[0;32m~/Dev/Snowflake-Mailing/venv/lib/python3.12/site-packages/snowflake/connector/network.py:1091\u001b[0m, in \u001b[0;36mSnowflakeRestful._request_exec\u001b[0;34m(self, session, method, full_url, headers, data, token, catch_okta_unauthorized_error, is_raw_text, is_raw_binary, binary_data_handler, socket_timeout, is_okta_authentication, raise_raw_http_failure)\u001b[0m\n\u001b[1;32m   1087\u001b[0m download_start_time \u001b[38;5;241m=\u001b[39m get_time_millis()\n\u001b[1;32m   1088\u001b[0m \u001b[38;5;66;03m# socket timeout is constant. You should be able to receive\u001b[39;00m\n\u001b[1;32m   1089\u001b[0m \u001b[38;5;66;03m# the response within the time. If not, ConnectReadTimeout or\u001b[39;00m\n\u001b[1;32m   1090\u001b[0m \u001b[38;5;66;03m# ReadTimeout is raised.\u001b[39;00m\n\u001b[0;32m-> 1091\u001b[0m raw_ret \u001b[38;5;241m=\u001b[39m \u001b[43msession\u001b[49m\u001b[38;5;241;43m.\u001b[39;49m\u001b[43mrequest\u001b[49m\u001b[43m(\u001b[49m\n\u001b[1;32m   1092\u001b[0m \u001b[43m    \u001b[49m\u001b[43mmethod\u001b[49m\u001b[38;5;241;43m=\u001b[39;49m\u001b[43mmethod\u001b[49m\u001b[43m,\u001b[49m\n\u001b[1;32m   1093\u001b[0m \u001b[43m    \u001b[49m\u001b[43murl\u001b[49m\u001b[38;5;241;43m=\u001b[39;49m\u001b[43mfull_url\u001b[49m\u001b[43m,\u001b[49m\n\u001b[1;32m   1094\u001b[0m \u001b[43m    \u001b[49m\u001b[43mheaders\u001b[49m\u001b[38;5;241;43m=\u001b[39;49m\u001b[43mheaders\u001b[49m\u001b[43m,\u001b[49m\n\u001b[1;32m   1095\u001b[0m \u001b[43m    \u001b[49m\u001b[43mdata\u001b[49m\u001b[38;5;241;43m=\u001b[39;49m\u001b[43minput_data\u001b[49m\u001b[43m,\u001b[49m\n\u001b[1;32m   1096\u001b[0m \u001b[43m    \u001b[49m\u001b[43mtimeout\u001b[49m\u001b[38;5;241;43m=\u001b[39;49m\u001b[43msocket_timeout\u001b[49m\u001b[43m,\u001b[49m\n\u001b[1;32m   1097\u001b[0m \u001b[43m    \u001b[49m\u001b[43mverify\u001b[49m\u001b[38;5;241;43m=\u001b[39;49m\u001b[38;5;28;43;01mTrue\u001b[39;49;00m\u001b[43m,\u001b[49m\n\u001b[1;32m   1098\u001b[0m \u001b[43m    \u001b[49m\u001b[43mstream\u001b[49m\u001b[38;5;241;43m=\u001b[39;49m\u001b[43mis_raw_binary\u001b[49m\u001b[43m,\u001b[49m\n\u001b[1;32m   1099\u001b[0m \u001b[43m    \u001b[49m\u001b[43mauth\u001b[49m\u001b[38;5;241;43m=\u001b[39;49m\u001b[43mSnowflakeAuth\u001b[49m\u001b[43m(\u001b[49m\u001b[43mtoken\u001b[49m\u001b[43m)\u001b[49m\u001b[43m,\u001b[49m\n\u001b[1;32m   1100\u001b[0m \u001b[43m\u001b[49m\u001b[43m)\u001b[49m\n\u001b[1;32m   1101\u001b[0m download_end_time \u001b[38;5;241m=\u001b[39m get_time_millis()\n\u001b[1;32m   1103\u001b[0m \u001b[38;5;28;01mtry\u001b[39;00m:\n",
      "File \u001b[0;32m~/Dev/Snowflake-Mailing/venv/lib/python3.12/site-packages/snowflake/connector/vendored/requests/sessions.py:589\u001b[0m, in \u001b[0;36mSession.request\u001b[0;34m(self, method, url, params, data, headers, cookies, files, auth, timeout, allow_redirects, proxies, hooks, stream, verify, cert, json)\u001b[0m\n\u001b[1;32m    584\u001b[0m send_kwargs \u001b[38;5;241m=\u001b[39m {\n\u001b[1;32m    585\u001b[0m     \u001b[38;5;124m\"\u001b[39m\u001b[38;5;124mtimeout\u001b[39m\u001b[38;5;124m\"\u001b[39m: timeout,\n\u001b[1;32m    586\u001b[0m     \u001b[38;5;124m\"\u001b[39m\u001b[38;5;124mallow_redirects\u001b[39m\u001b[38;5;124m\"\u001b[39m: allow_redirects,\n\u001b[1;32m    587\u001b[0m }\n\u001b[1;32m    588\u001b[0m send_kwargs\u001b[38;5;241m.\u001b[39mupdate(settings)\n\u001b[0;32m--> 589\u001b[0m resp \u001b[38;5;241m=\u001b[39m \u001b[38;5;28;43mself\u001b[39;49m\u001b[38;5;241;43m.\u001b[39;49m\u001b[43msend\u001b[49m\u001b[43m(\u001b[49m\u001b[43mprep\u001b[49m\u001b[43m,\u001b[49m\u001b[43m \u001b[49m\u001b[38;5;241;43m*\u001b[39;49m\u001b[38;5;241;43m*\u001b[39;49m\u001b[43msend_kwargs\u001b[49m\u001b[43m)\u001b[49m\n\u001b[1;32m    591\u001b[0m \u001b[38;5;28;01mreturn\u001b[39;00m resp\n",
      "File \u001b[0;32m~/Dev/Snowflake-Mailing/venv/lib/python3.12/site-packages/snowflake/connector/vendored/requests/sessions.py:703\u001b[0m, in \u001b[0;36mSession.send\u001b[0;34m(self, request, **kwargs)\u001b[0m\n\u001b[1;32m    700\u001b[0m start \u001b[38;5;241m=\u001b[39m preferred_clock()\n\u001b[1;32m    702\u001b[0m \u001b[38;5;66;03m# Send the request\u001b[39;00m\n\u001b[0;32m--> 703\u001b[0m r \u001b[38;5;241m=\u001b[39m \u001b[43madapter\u001b[49m\u001b[38;5;241;43m.\u001b[39;49m\u001b[43msend\u001b[49m\u001b[43m(\u001b[49m\u001b[43mrequest\u001b[49m\u001b[43m,\u001b[49m\u001b[43m \u001b[49m\u001b[38;5;241;43m*\u001b[39;49m\u001b[38;5;241;43m*\u001b[39;49m\u001b[43mkwargs\u001b[49m\u001b[43m)\u001b[49m\n\u001b[1;32m    705\u001b[0m \u001b[38;5;66;03m# Total elapsed time of the request (approximately)\u001b[39;00m\n\u001b[1;32m    706\u001b[0m elapsed \u001b[38;5;241m=\u001b[39m preferred_clock() \u001b[38;5;241m-\u001b[39m start\n",
      "File \u001b[0;32m~/Dev/Snowflake-Mailing/venv/lib/python3.12/site-packages/snowflake/connector/vendored/requests/adapters.py:485\u001b[0m, in \u001b[0;36mHTTPAdapter.send\u001b[0;34m(self, request, stream, timeout, verify, cert, proxies)\u001b[0m\n\u001b[1;32m    482\u001b[0m     timeout \u001b[38;5;241m=\u001b[39m TimeoutSauce(connect\u001b[38;5;241m=\u001b[39mtimeout, read\u001b[38;5;241m=\u001b[39mtimeout)\n\u001b[1;32m    484\u001b[0m \u001b[38;5;28;01mtry\u001b[39;00m:\n\u001b[0;32m--> 485\u001b[0m     resp \u001b[38;5;241m=\u001b[39m \u001b[43mconn\u001b[49m\u001b[38;5;241;43m.\u001b[39;49m\u001b[43murlopen\u001b[49m\u001b[43m(\u001b[49m\n\u001b[1;32m    486\u001b[0m \u001b[43m        \u001b[49m\u001b[43mmethod\u001b[49m\u001b[38;5;241;43m=\u001b[39;49m\u001b[43mrequest\u001b[49m\u001b[38;5;241;43m.\u001b[39;49m\u001b[43mmethod\u001b[49m\u001b[43m,\u001b[49m\n\u001b[1;32m    487\u001b[0m \u001b[43m        \u001b[49m\u001b[43murl\u001b[49m\u001b[38;5;241;43m=\u001b[39;49m\u001b[43murl\u001b[49m\u001b[43m,\u001b[49m\n\u001b[1;32m    488\u001b[0m \u001b[43m        \u001b[49m\u001b[43mbody\u001b[49m\u001b[38;5;241;43m=\u001b[39;49m\u001b[43mrequest\u001b[49m\u001b[38;5;241;43m.\u001b[39;49m\u001b[43mbody\u001b[49m\u001b[43m,\u001b[49m\n\u001b[1;32m    489\u001b[0m \u001b[43m        \u001b[49m\u001b[43mheaders\u001b[49m\u001b[38;5;241;43m=\u001b[39;49m\u001b[43mrequest\u001b[49m\u001b[38;5;241;43m.\u001b[39;49m\u001b[43mheaders\u001b[49m\u001b[43m,\u001b[49m\n\u001b[1;32m    490\u001b[0m \u001b[43m        \u001b[49m\u001b[43mredirect\u001b[49m\u001b[38;5;241;43m=\u001b[39;49m\u001b[38;5;28;43;01mFalse\u001b[39;49;00m\u001b[43m,\u001b[49m\n\u001b[1;32m    491\u001b[0m \u001b[43m        \u001b[49m\u001b[43massert_same_host\u001b[49m\u001b[38;5;241;43m=\u001b[39;49m\u001b[38;5;28;43;01mFalse\u001b[39;49;00m\u001b[43m,\u001b[49m\n\u001b[1;32m    492\u001b[0m \u001b[43m        \u001b[49m\u001b[43mpreload_content\u001b[49m\u001b[38;5;241;43m=\u001b[39;49m\u001b[38;5;28;43;01mFalse\u001b[39;49;00m\u001b[43m,\u001b[49m\n\u001b[1;32m    493\u001b[0m \u001b[43m        \u001b[49m\u001b[43mdecode_content\u001b[49m\u001b[38;5;241;43m=\u001b[39;49m\u001b[38;5;28;43;01mFalse\u001b[39;49;00m\u001b[43m,\u001b[49m\n\u001b[1;32m    494\u001b[0m \u001b[43m        \u001b[49m\u001b[43mretries\u001b[49m\u001b[38;5;241;43m=\u001b[39;49m\u001b[38;5;28;43mself\u001b[39;49m\u001b[38;5;241;43m.\u001b[39;49m\u001b[43mmax_retries\u001b[49m\u001b[43m,\u001b[49m\n\u001b[1;32m    495\u001b[0m \u001b[43m        \u001b[49m\u001b[43mtimeout\u001b[49m\u001b[38;5;241;43m=\u001b[39;49m\u001b[43mtimeout\u001b[49m\u001b[43m,\u001b[49m\n\u001b[1;32m    496\u001b[0m \u001b[43m        \u001b[49m\u001b[43mchunked\u001b[49m\u001b[38;5;241;43m=\u001b[39;49m\u001b[43mchunked\u001b[49m\u001b[43m,\u001b[49m\n\u001b[1;32m    497\u001b[0m \u001b[43m    \u001b[49m\u001b[43m)\u001b[49m\n\u001b[1;32m    499\u001b[0m \u001b[38;5;28;01mexcept\u001b[39;00m (ProtocolError, \u001b[38;5;167;01mOSError\u001b[39;00m) \u001b[38;5;28;01mas\u001b[39;00m err:\n\u001b[1;32m    500\u001b[0m     \u001b[38;5;28;01mraise\u001b[39;00m \u001b[38;5;167;01mConnectionError\u001b[39;00m(err, request\u001b[38;5;241m=\u001b[39mrequest)\n",
      "File \u001b[0;32m~/Dev/Snowflake-Mailing/venv/lib/python3.12/site-packages/snowflake/connector/vendored/urllib3/connectionpool.py:715\u001b[0m, in \u001b[0;36mHTTPConnectionPool.urlopen\u001b[0;34m(self, method, url, body, headers, retries, redirect, assert_same_host, timeout, pool_timeout, release_conn, chunked, body_pos, **response_kw)\u001b[0m\n\u001b[1;32m    712\u001b[0m     \u001b[38;5;28mself\u001b[39m\u001b[38;5;241m.\u001b[39m_prepare_proxy(conn)\n\u001b[1;32m    714\u001b[0m \u001b[38;5;66;03m# Make the request on the httplib connection object.\u001b[39;00m\n\u001b[0;32m--> 715\u001b[0m httplib_response \u001b[38;5;241m=\u001b[39m \u001b[38;5;28;43mself\u001b[39;49m\u001b[38;5;241;43m.\u001b[39;49m\u001b[43m_make_request\u001b[49m\u001b[43m(\u001b[49m\n\u001b[1;32m    716\u001b[0m \u001b[43m    \u001b[49m\u001b[43mconn\u001b[49m\u001b[43m,\u001b[49m\n\u001b[1;32m    717\u001b[0m \u001b[43m    \u001b[49m\u001b[43mmethod\u001b[49m\u001b[43m,\u001b[49m\n\u001b[1;32m    718\u001b[0m \u001b[43m    \u001b[49m\u001b[43murl\u001b[49m\u001b[43m,\u001b[49m\n\u001b[1;32m    719\u001b[0m \u001b[43m    \u001b[49m\u001b[43mtimeout\u001b[49m\u001b[38;5;241;43m=\u001b[39;49m\u001b[43mtimeout_obj\u001b[49m\u001b[43m,\u001b[49m\n\u001b[1;32m    720\u001b[0m \u001b[43m    \u001b[49m\u001b[43mbody\u001b[49m\u001b[38;5;241;43m=\u001b[39;49m\u001b[43mbody\u001b[49m\u001b[43m,\u001b[49m\n\u001b[1;32m    721\u001b[0m \u001b[43m    \u001b[49m\u001b[43mheaders\u001b[49m\u001b[38;5;241;43m=\u001b[39;49m\u001b[43mheaders\u001b[49m\u001b[43m,\u001b[49m\n\u001b[1;32m    722\u001b[0m \u001b[43m    \u001b[49m\u001b[43mchunked\u001b[49m\u001b[38;5;241;43m=\u001b[39;49m\u001b[43mchunked\u001b[49m\u001b[43m,\u001b[49m\n\u001b[1;32m    723\u001b[0m \u001b[43m\u001b[49m\u001b[43m)\u001b[49m\n\u001b[1;32m    725\u001b[0m \u001b[38;5;66;03m# If we're going to release the connection in ``finally:``, then\u001b[39;00m\n\u001b[1;32m    726\u001b[0m \u001b[38;5;66;03m# the response doesn't need to know about the connection. Otherwise\u001b[39;00m\n\u001b[1;32m    727\u001b[0m \u001b[38;5;66;03m# it will also try to release it and we'll have a double-release\u001b[39;00m\n\u001b[1;32m    728\u001b[0m \u001b[38;5;66;03m# mess.\u001b[39;00m\n\u001b[1;32m    729\u001b[0m response_conn \u001b[38;5;241m=\u001b[39m conn \u001b[38;5;28;01mif\u001b[39;00m \u001b[38;5;129;01mnot\u001b[39;00m release_conn \u001b[38;5;28;01melse\u001b[39;00m \u001b[38;5;28;01mNone\u001b[39;00m\n",
      "File \u001b[0;32m~/Dev/Snowflake-Mailing/venv/lib/python3.12/site-packages/snowflake/connector/vendored/urllib3/connectionpool.py:467\u001b[0m, in \u001b[0;36mHTTPConnectionPool._make_request\u001b[0;34m(self, conn, method, url, timeout, chunked, **httplib_request_kw)\u001b[0m\n\u001b[1;32m    462\u001b[0m             httplib_response \u001b[38;5;241m=\u001b[39m conn\u001b[38;5;241m.\u001b[39mgetresponse()\n\u001b[1;32m    463\u001b[0m         \u001b[38;5;28;01mexcept\u001b[39;00m \u001b[38;5;167;01mBaseException\u001b[39;00m \u001b[38;5;28;01mas\u001b[39;00m e:\n\u001b[1;32m    464\u001b[0m             \u001b[38;5;66;03m# Remove the TypeError from the exception chain in\u001b[39;00m\n\u001b[1;32m    465\u001b[0m             \u001b[38;5;66;03m# Python 3 (including for exceptions like SystemExit).\u001b[39;00m\n\u001b[1;32m    466\u001b[0m             \u001b[38;5;66;03m# Otherwise it looks like a bug in the code.\u001b[39;00m\n\u001b[0;32m--> 467\u001b[0m             \u001b[43msix\u001b[49m\u001b[38;5;241;43m.\u001b[39;49m\u001b[43mraise_from\u001b[49m\u001b[43m(\u001b[49m\u001b[43me\u001b[49m\u001b[43m,\u001b[49m\u001b[43m \u001b[49m\u001b[38;5;28;43;01mNone\u001b[39;49;00m\u001b[43m)\u001b[49m\n\u001b[1;32m    468\u001b[0m \u001b[38;5;28;01mexcept\u001b[39;00m (SocketTimeout, BaseSSLError, SocketError) \u001b[38;5;28;01mas\u001b[39;00m e:\n\u001b[1;32m    469\u001b[0m     \u001b[38;5;28mself\u001b[39m\u001b[38;5;241m.\u001b[39m_raise_timeout(err\u001b[38;5;241m=\u001b[39me, url\u001b[38;5;241m=\u001b[39murl, timeout_value\u001b[38;5;241m=\u001b[39mread_timeout)\n",
      "File \u001b[0;32m<string>:3\u001b[0m, in \u001b[0;36mraise_from\u001b[0;34m(value, from_value)\u001b[0m\n",
      "File \u001b[0;32m~/Dev/Snowflake-Mailing/venv/lib/python3.12/site-packages/snowflake/connector/vendored/urllib3/connectionpool.py:462\u001b[0m, in \u001b[0;36mHTTPConnectionPool._make_request\u001b[0;34m(self, conn, method, url, timeout, chunked, **httplib_request_kw)\u001b[0m\n\u001b[1;32m    459\u001b[0m \u001b[38;5;28;01mexcept\u001b[39;00m \u001b[38;5;167;01mTypeError\u001b[39;00m:\n\u001b[1;32m    460\u001b[0m     \u001b[38;5;66;03m# Python 3\u001b[39;00m\n\u001b[1;32m    461\u001b[0m     \u001b[38;5;28;01mtry\u001b[39;00m:\n\u001b[0;32m--> 462\u001b[0m         httplib_response \u001b[38;5;241m=\u001b[39m \u001b[43mconn\u001b[49m\u001b[38;5;241;43m.\u001b[39;49m\u001b[43mgetresponse\u001b[49m\u001b[43m(\u001b[49m\u001b[43m)\u001b[49m\n\u001b[1;32m    463\u001b[0m     \u001b[38;5;28;01mexcept\u001b[39;00m \u001b[38;5;167;01mBaseException\u001b[39;00m \u001b[38;5;28;01mas\u001b[39;00m e:\n\u001b[1;32m    464\u001b[0m         \u001b[38;5;66;03m# Remove the TypeError from the exception chain in\u001b[39;00m\n\u001b[1;32m    465\u001b[0m         \u001b[38;5;66;03m# Python 3 (including for exceptions like SystemExit).\u001b[39;00m\n\u001b[1;32m    466\u001b[0m         \u001b[38;5;66;03m# Otherwise it looks like a bug in the code.\u001b[39;00m\n\u001b[1;32m    467\u001b[0m         six\u001b[38;5;241m.\u001b[39mraise_from(e, \u001b[38;5;28;01mNone\u001b[39;00m)\n",
      "File \u001b[0;32m/opt/anaconda3/lib/python3.12/http/client.py:1428\u001b[0m, in \u001b[0;36mHTTPConnection.getresponse\u001b[0;34m(self)\u001b[0m\n\u001b[1;32m   1426\u001b[0m \u001b[38;5;28;01mtry\u001b[39;00m:\n\u001b[1;32m   1427\u001b[0m     \u001b[38;5;28;01mtry\u001b[39;00m:\n\u001b[0;32m-> 1428\u001b[0m         \u001b[43mresponse\u001b[49m\u001b[38;5;241;43m.\u001b[39;49m\u001b[43mbegin\u001b[49m\u001b[43m(\u001b[49m\u001b[43m)\u001b[49m\n\u001b[1;32m   1429\u001b[0m     \u001b[38;5;28;01mexcept\u001b[39;00m \u001b[38;5;167;01mConnectionError\u001b[39;00m:\n\u001b[1;32m   1430\u001b[0m         \u001b[38;5;28mself\u001b[39m\u001b[38;5;241m.\u001b[39mclose()\n",
      "File \u001b[0;32m/opt/anaconda3/lib/python3.12/http/client.py:331\u001b[0m, in \u001b[0;36mHTTPResponse.begin\u001b[0;34m(self)\u001b[0m\n\u001b[1;32m    329\u001b[0m \u001b[38;5;66;03m# read until we get a non-100 response\u001b[39;00m\n\u001b[1;32m    330\u001b[0m \u001b[38;5;28;01mwhile\u001b[39;00m \u001b[38;5;28;01mTrue\u001b[39;00m:\n\u001b[0;32m--> 331\u001b[0m     version, status, reason \u001b[38;5;241m=\u001b[39m \u001b[38;5;28;43mself\u001b[39;49m\u001b[38;5;241;43m.\u001b[39;49m\u001b[43m_read_status\u001b[49m\u001b[43m(\u001b[49m\u001b[43m)\u001b[49m\n\u001b[1;32m    332\u001b[0m     \u001b[38;5;28;01mif\u001b[39;00m status \u001b[38;5;241m!=\u001b[39m CONTINUE:\n\u001b[1;32m    333\u001b[0m         \u001b[38;5;28;01mbreak\u001b[39;00m\n",
      "File \u001b[0;32m/opt/anaconda3/lib/python3.12/http/client.py:292\u001b[0m, in \u001b[0;36mHTTPResponse._read_status\u001b[0;34m(self)\u001b[0m\n\u001b[1;32m    291\u001b[0m \u001b[38;5;28;01mdef\u001b[39;00m\u001b[38;5;250m \u001b[39m\u001b[38;5;21m_read_status\u001b[39m(\u001b[38;5;28mself\u001b[39m):\n\u001b[0;32m--> 292\u001b[0m     line \u001b[38;5;241m=\u001b[39m \u001b[38;5;28mstr\u001b[39m(\u001b[38;5;28;43mself\u001b[39;49m\u001b[38;5;241;43m.\u001b[39;49m\u001b[43mfp\u001b[49m\u001b[38;5;241;43m.\u001b[39;49m\u001b[43mreadline\u001b[49m\u001b[43m(\u001b[49m\u001b[43m_MAXLINE\u001b[49m\u001b[43m \u001b[49m\u001b[38;5;241;43m+\u001b[39;49m\u001b[43m \u001b[49m\u001b[38;5;241;43m1\u001b[39;49m\u001b[43m)\u001b[49m, \u001b[38;5;124m\"\u001b[39m\u001b[38;5;124miso-8859-1\u001b[39m\u001b[38;5;124m\"\u001b[39m)\n\u001b[1;32m    293\u001b[0m     \u001b[38;5;28;01mif\u001b[39;00m \u001b[38;5;28mlen\u001b[39m(line) \u001b[38;5;241m>\u001b[39m _MAXLINE:\n\u001b[1;32m    294\u001b[0m         \u001b[38;5;28;01mraise\u001b[39;00m LineTooLong(\u001b[38;5;124m\"\u001b[39m\u001b[38;5;124mstatus line\u001b[39m\u001b[38;5;124m\"\u001b[39m)\n",
      "File \u001b[0;32m/opt/anaconda3/lib/python3.12/socket.py:720\u001b[0m, in \u001b[0;36mSocketIO.readinto\u001b[0;34m(self, b)\u001b[0m\n\u001b[1;32m    718\u001b[0m \u001b[38;5;28;01mwhile\u001b[39;00m \u001b[38;5;28;01mTrue\u001b[39;00m:\n\u001b[1;32m    719\u001b[0m     \u001b[38;5;28;01mtry\u001b[39;00m:\n\u001b[0;32m--> 720\u001b[0m         \u001b[38;5;28;01mreturn\u001b[39;00m \u001b[38;5;28;43mself\u001b[39;49m\u001b[38;5;241;43m.\u001b[39;49m\u001b[43m_sock\u001b[49m\u001b[38;5;241;43m.\u001b[39;49m\u001b[43mrecv_into\u001b[49m\u001b[43m(\u001b[49m\u001b[43mb\u001b[49m\u001b[43m)\u001b[49m\n\u001b[1;32m    721\u001b[0m     \u001b[38;5;28;01mexcept\u001b[39;00m timeout:\n\u001b[1;32m    722\u001b[0m         \u001b[38;5;28mself\u001b[39m\u001b[38;5;241m.\u001b[39m_timeout_occurred \u001b[38;5;241m=\u001b[39m \u001b[38;5;28;01mTrue\u001b[39;00m\n",
      "File \u001b[0;32m~/Dev/Snowflake-Mailing/venv/lib/python3.12/site-packages/snowflake/connector/vendored/urllib3/contrib/pyopenssl.py:330\u001b[0m, in \u001b[0;36mWrappedSocket.recv_into\u001b[0;34m(self, *args, **kwargs)\u001b[0m\n\u001b[1;32m    328\u001b[0m         \u001b[38;5;28;01mraise\u001b[39;00m\n\u001b[1;32m    329\u001b[0m \u001b[38;5;28;01mexcept\u001b[39;00m OpenSSL\u001b[38;5;241m.\u001b[39mSSL\u001b[38;5;241m.\u001b[39mWantReadError:\n\u001b[0;32m--> 330\u001b[0m     \u001b[38;5;28;01mif\u001b[39;00m \u001b[38;5;129;01mnot\u001b[39;00m \u001b[43mutil\u001b[49m\u001b[38;5;241;43m.\u001b[39;49m\u001b[43mwait_for_read\u001b[49m\u001b[43m(\u001b[49m\u001b[38;5;28;43mself\u001b[39;49m\u001b[38;5;241;43m.\u001b[39;49m\u001b[43msocket\u001b[49m\u001b[43m,\u001b[49m\u001b[43m \u001b[49m\u001b[38;5;28;43mself\u001b[39;49m\u001b[38;5;241;43m.\u001b[39;49m\u001b[43msocket\u001b[49m\u001b[38;5;241;43m.\u001b[39;49m\u001b[43mgettimeout\u001b[49m\u001b[43m(\u001b[49m\u001b[43m)\u001b[49m\u001b[43m)\u001b[49m:\n\u001b[1;32m    331\u001b[0m         \u001b[38;5;28;01mraise\u001b[39;00m timeout(\u001b[38;5;124m\"\u001b[39m\u001b[38;5;124mThe read operation timed out\u001b[39m\u001b[38;5;124m\"\u001b[39m)\n\u001b[1;32m    332\u001b[0m     \u001b[38;5;28;01melse\u001b[39;00m:\n",
      "File \u001b[0;32m~/Dev/Snowflake-Mailing/venv/lib/python3.12/site-packages/snowflake/connector/vendored/urllib3/util/wait.py:145\u001b[0m, in \u001b[0;36mwait_for_read\u001b[0;34m(sock, timeout)\u001b[0m\n\u001b[1;32m    141\u001b[0m \u001b[38;5;28;01mdef\u001b[39;00m\u001b[38;5;250m \u001b[39m\u001b[38;5;21mwait_for_read\u001b[39m(sock, timeout\u001b[38;5;241m=\u001b[39m\u001b[38;5;28;01mNone\u001b[39;00m):\n\u001b[1;32m    142\u001b[0m \u001b[38;5;250m    \u001b[39m\u001b[38;5;124;03m\"\"\"Waits for reading to be available on a given socket.\u001b[39;00m\n\u001b[1;32m    143\u001b[0m \u001b[38;5;124;03m    Returns True if the socket is readable, or False if the timeout expired.\u001b[39;00m\n\u001b[1;32m    144\u001b[0m \u001b[38;5;124;03m    \"\"\"\u001b[39;00m\n\u001b[0;32m--> 145\u001b[0m     \u001b[38;5;28;01mreturn\u001b[39;00m \u001b[43mwait_for_socket\u001b[49m\u001b[43m(\u001b[49m\u001b[43msock\u001b[49m\u001b[43m,\u001b[49m\u001b[43m \u001b[49m\u001b[43mread\u001b[49m\u001b[38;5;241;43m=\u001b[39;49m\u001b[38;5;28;43;01mTrue\u001b[39;49;00m\u001b[43m,\u001b[49m\u001b[43m \u001b[49m\u001b[43mtimeout\u001b[49m\u001b[38;5;241;43m=\u001b[39;49m\u001b[43mtimeout\u001b[49m\u001b[43m)\u001b[49m\n",
      "File \u001b[0;32m~/Dev/Snowflake-Mailing/venv/lib/python3.12/site-packages/snowflake/connector/vendored/urllib3/util/wait.py:106\u001b[0m, in \u001b[0;36mpoll_wait_for_socket\u001b[0;34m(sock, read, write, timeout)\u001b[0m\n\u001b[1;32m    103\u001b[0m         t \u001b[38;5;241m*\u001b[39m\u001b[38;5;241m=\u001b[39m \u001b[38;5;241m1000\u001b[39m\n\u001b[1;32m    104\u001b[0m     \u001b[38;5;28;01mreturn\u001b[39;00m poll_obj\u001b[38;5;241m.\u001b[39mpoll(t)\n\u001b[0;32m--> 106\u001b[0m \u001b[38;5;28;01mreturn\u001b[39;00m \u001b[38;5;28mbool\u001b[39m(\u001b[43m_retry_on_intr\u001b[49m\u001b[43m(\u001b[49m\u001b[43mdo_poll\u001b[49m\u001b[43m,\u001b[49m\u001b[43m \u001b[49m\u001b[43mtimeout\u001b[49m\u001b[43m)\u001b[49m)\n",
      "File \u001b[0;32m~/Dev/Snowflake-Mailing/venv/lib/python3.12/site-packages/snowflake/connector/vendored/urllib3/util/wait.py:43\u001b[0m, in \u001b[0;36m_retry_on_intr\u001b[0;34m(fn, timeout)\u001b[0m\n\u001b[1;32m     42\u001b[0m \u001b[38;5;28;01mdef\u001b[39;00m\u001b[38;5;250m \u001b[39m\u001b[38;5;21m_retry_on_intr\u001b[39m(fn, timeout):\n\u001b[0;32m---> 43\u001b[0m     \u001b[38;5;28;01mreturn\u001b[39;00m \u001b[43mfn\u001b[49m\u001b[43m(\u001b[49m\u001b[43mtimeout\u001b[49m\u001b[43m)\u001b[49m\n",
      "File \u001b[0;32m~/Dev/Snowflake-Mailing/venv/lib/python3.12/site-packages/snowflake/connector/vendored/urllib3/util/wait.py:104\u001b[0m, in \u001b[0;36mpoll_wait_for_socket.<locals>.do_poll\u001b[0;34m(t)\u001b[0m\n\u001b[1;32m    102\u001b[0m \u001b[38;5;28;01mif\u001b[39;00m t \u001b[38;5;129;01mis\u001b[39;00m \u001b[38;5;129;01mnot\u001b[39;00m \u001b[38;5;28;01mNone\u001b[39;00m:\n\u001b[1;32m    103\u001b[0m     t \u001b[38;5;241m*\u001b[39m\u001b[38;5;241m=\u001b[39m \u001b[38;5;241m1000\u001b[39m\n\u001b[0;32m--> 104\u001b[0m \u001b[38;5;28;01mreturn\u001b[39;00m \u001b[43mpoll_obj\u001b[49m\u001b[38;5;241;43m.\u001b[39;49m\u001b[43mpoll\u001b[49m\u001b[43m(\u001b[49m\u001b[43mt\u001b[49m\u001b[43m)\u001b[49m\n",
      "File \u001b[0;32m~/Dev/Snowflake-Mailing/venv/lib/python3.12/site-packages/snowflake/connector/cursor.py:711\u001b[0m, in \u001b[0;36mSnowflakeCursor._execute_helper.<locals>.interrupt_handler\u001b[0;34m(*_)\u001b[0m\n\u001b[1;32m    708\u001b[0m         \u001b[38;5;28;01mexcept\u001b[39;00m (\u001b[38;5;167;01mValueError\u001b[39;00m, \u001b[38;5;167;01mTypeError\u001b[39;00m):\n\u001b[1;32m    709\u001b[0m             \u001b[38;5;66;03m# ignore failures\u001b[39;00m\n\u001b[1;32m    710\u001b[0m             \u001b[38;5;28;01mpass\u001b[39;00m\n\u001b[0;32m--> 711\u001b[0m \u001b[38;5;28;01mraise\u001b[39;00m \u001b[38;5;167;01mKeyboardInterrupt\u001b[39;00m\n",
      "\u001b[0;31mKeyboardInterrupt\u001b[0m: "
     ]
    }
   ],
   "source": [
    "# call LLM via complete request via SQL request \n",
    "def call_cortex_complete(cursor, prompt: str, model: str = 'mistral-7b'):\n",
    "    \"\"\"Calls the Snowflake Cortex COMPLETE function with the given prompt and model.\"\"\"\n",
    "    try:\n",
    "        # Using %s placeholders for model and prompt for security and correctness\n",
    "        query = \"SELECT SNOWFLAKE.CORTEX.COMPLETE(%s, %s) AS response;\"\n",
    "        # print(f\"Executing Cortex query with model='{model}', prompt='{prompt[:100]}...'\") # For debugging\n",
    "        cursor.execute(query, (model, prompt))\n",
    "        result = cursor.fetchone()\n",
    "        if result and result[0]:\n",
    "            return result[0]  # The response from COMPLETE is in the first column\n",
    "        else:\n",
    "            print(\"Cortex returned no result or an empty result.\")\n",
    "            return None\n",
    "    except Exception as e:\n",
    "        print(f\"Error calling Cortex COMPLETE: {e}\")\n",
    "        if hasattr(e, 'sfqid'): # Snowflake query ID can be helpful for debugging\n",
    "            print(f\"Snowflake Query ID: {e.sfqid}\")\n",
    "        return None\n",
    "    \n",
    "call_cortex_complete(cur, \n",
    "                    \"\"\"[\n",
    "            {{'role': 'system', 'content': 'You are a helpful AI assistant that is writing some emails.' }},\n",
    "            {{'role': 'user', 'content': '{placeholder}' }}\"\"\",\n",
    "                    'mistral-7b'\n",
    "                    )"
   ]
  },
  {
   "cell_type": "markdown",
   "id": "a1a8494e",
   "metadata": {},
   "source": [
    "### Open AI LLM Use\n"
   ]
  },
  {
   "cell_type": "code",
   "execution_count": 63,
   "id": "2df94c15",
   "metadata": {},
   "outputs": [
    {
     "name": "stdout",
     "output_type": "stream",
     "text": [
      "Hello! I'm just a computer program, so I don't have feelings, but I'm here and ready to help you. How can I assist you today?\n"
     ]
    }
   ],
   "source": [
    "import openai\n",
    "load_dotenv()\n",
    "openai.api_key = os.getenv(\"OPENAI_API_KEY\")\n",
    "\n",
    "def openai_llm_call(prompt: str):\n",
    "    response = openai.chat.completions.create(\n",
    "        model=\"gpt-4o-mini\",\n",
    "        messages=[{\"role\": \"user\", \"content\": prompt}]\n",
    "    )\n",
    "    return response.choices[0].message.content\n",
    "\n",
    "\n",
    "response = openai_llm_call(\"Hello, how are you?\")\n",
    "print(response)\n"
   ]
  },
  {
   "cell_type": "markdown",
   "id": "4d6d4809",
   "metadata": {},
   "source": [
    "# This is for when we're on the snowflake environment."
   ]
  },
  {
   "cell_type": "code",
   "execution_count": 5,
   "id": "3775908f-ca36-4846-8f38-5adca39217f2",
   "metadata": {
    "language": "python",
    "name": "cell1"
   },
   "outputs": [],
   "source": [
    "# -------on snowflake environment-------\n",
    "# import _snowflake  # For interacting with Snowflake-specific APIs\n",
    "# from snowflake.snowpark.context import get_active_session\n",
    "# from snowflake.snowpark.exceptions import SnowparkSQLException\n",
    "# from snowflake.cortex import Complete, ExtractAnswer, Sentiment, Summarize, Translate, ClassifyText\n",
    "# session = get_active_session()"
   ]
  },
  {
   "cell_type": "markdown",
   "id": "3a9b6b36-ee48-49a1-ad51-196ea6c66cc2",
   "metadata": {
    "collapsed": false,
    "name": "cell10"
   },
   "source": [
    "# LLM part"
   ]
  },
  {
   "cell_type": "code",
   "execution_count": 19,
   "id": "76ed160d-a85e-4303-9115-b77d84bd1b37",
   "metadata": {
    "language": "python",
    "name": "cell11"
   },
   "outputs": [],
   "source": [
    "def complete_prompts(prompt_template, sql_template, placeholder_value):\n",
    "    # une fonction qui retourne une sql query constitué du prompt template complété par le placeholder et du system prompt\n",
    "    formated_prompt = prompt_template.format(placeholder = placeholder_value)\n",
    "    formated_prompt_sql = sql_template.format(placeholder = formated_prompt)\n",
    "    \n",
    "    return formated_prompt, formated_prompt_sql"
   ]
  },
  {
   "cell_type": "code",
   "execution_count": 20,
   "id": "abdd0aec-8fbc-4257-a299-722b87b5141f",
   "metadata": {
    "language": "python",
    "name": "cell6"
   },
   "outputs": [],
   "source": [
    "def llm_call(prompt_generate_mail : str):\n",
    "    \n",
    "    generated_response = Complete(\"llama2-70b-chat\", )\n",
    "    return generated_response"
   ]
  },
  {
   "cell_type": "markdown",
   "id": "c8051e8d-8a12-426a-842f-9ba5905358d5",
   "metadata": {
    "collapsed": false,
    "name": "cell8"
   },
   "source": [
    "# Get SQL query and the DATAFRAME from its execussion"
   ]
  },
  {
   "cell_type": "code",
   "execution_count": 17,
   "id": "c695373e-ac74-4b62-a1f1-08206cbd5c81",
   "metadata": {
    "language": "python",
    "name": "cell3"
   },
   "outputs": [],
   "source": [
    "# def get_analyst_response(messages: List[Dict]):\n",
    "def get_analyst_response(conv: List[Dict]):\n",
    "\n",
    "    # test payload\n",
    "    message_test = [{\n",
    "            \"role\": \"user\",\n",
    "            \"content\": [\n",
    "                {\n",
    "                    \"type\": \"text\",\n",
    "                    \"text\": \"which company had the most revenue?\"\n",
    "                }\n",
    "            ]\n",
    "        }]\n",
    "\n",
    "    request_body = {\n",
    "        \"messages\": conv,\n",
    "        \"semantic_model_file\": f\"@{AVAILABLE_SEMANTIC_MODELS_PATHS[0]}\",\n",
    "        \"stream\": False, \n",
    "    }\n",
    "    print(request_body['messages'])\n",
    "\n",
    "    resp = requests.post(\n",
    "        url=f\"https://{conn.host}/api/v2/cortex/analyst/message\",\n",
    "        json=request_body,\n",
    "        headers={\n",
    "            \"Authorization\": f'Snowflake Token=\"{conn.rest.token}\"',\n",
    "            \"Content-Type\": \"application/json\",\n",
    "        }\n",
    "    )\n",
    "\n",
    "    parsed_response = json.loads(resp.text)  \n",
    "    \n",
    "    print(parsed_response)\n",
    "\n",
    "    return parsed_response\n"
   ]
  },
  {
   "cell_type": "code",
   "execution_count": 18,
   "id": "735b4b9b",
   "metadata": {},
   "outputs": [
    {
     "name": "stdout",
     "output_type": "stream",
     "text": [
      "[{'role': 'user', 'content': [{'type': 'text', 'text': 'Give me 3 customer_ids of a customer that went in a hotel in Paris, France yesterday.'}]}]\n",
      "Response content: b'{\\n  \"message\" : {\\n    \"role\" : \"analyst\",\\n    \"content\" : [ {\\n      \"type\" : \"text\",\\n      \"text\" : \"This is our interpretation of your question:\\\\n\\\\nGive me 3 customer_ids of customers who had a hotel booking in Paris, France with a check-in date of 2025-05-18 (yesterday).\"\\n    }, {\\n      \"type\" : \"sql\",\\n      \"statement\" : \"WITH __dim_order AS (\\\\n  SELECT\\\\n    customer_id,\\\\n    hotel_id,\\\\n    checkin_datetime\\\\n  FROM dayuse_analytics.analytics.dim_order\\\\n), __dim_hotel AS (\\\\n  SELECT\\\\n    hotel_id,\\\\n    country,\\\\n    city\\\\n  FROM dayuse_analytics.analytics.dim_hotel\\\\n)\\\\nSELECT DISTINCT\\\\n  o.customer_id\\\\nFROM __dim_order AS o\\\\nLEFT OUTER JOIN __dim_hotel AS h\\\\n  ON o.hotel_id = h.hotel_id\\\\nWHERE\\\\n  h.city = \\'Paris\\'\\\\n  AND h.country = \\'France\\'\\\\n  AND TO_DATE(o.checkin_datetime) = DATEADD(DAY, -1, CURRENT_DATE)\\\\nLIMIT 3\\\\n -- Generated by Cortex Analyst\\\\n;\",\\n      \"confidence\" : {\\n        \"verified_query_used\" : null\\n      }\\n    } ]\\n  },\\n  \"request_id\" : \"988e6113-15d5-41d3-be69-772605489560\",\\n  \"warnings\" : [ {\\n    \"message\" : \"Right table primary keys {\\'hotel_id\\', \\'order_id\\'} do not match the columns used relationship {\\'customer_id\\'}. Please examine the many-to-one join relationship Customer Orders to ensure it is correct. Either all primary keys must be used in the relationship, or remove the unused primary key from the table dim_order. If not fixed, this issue may result in not producing any join queries related to this relationship.\"\\n  }, {\\n    \"message\" : \"Right table primary keys {\\'rate_plan_id\\', \\'abstract_hotel_item_id\\', \\'hotel_id\\'} do not match the columns used relationship {\\'hotel_id\\'}. Please examine the many-to-one join relationship Hotel Asset Rate Plan to ensure it is correct. Either all primary keys must be used in the relationship, or remove the unused primary key from the table dim_asset_rate_plan. If not fixed, this issue may result in not producing any join queries related to this relationship.\"\\n  }, {\\n    \"message\" : \"Duplicate synonym \\'rate_plan_key\\' found in logical table \\'dim_asset_rate_plan\\' for columns: rate_plan_uuid, rate_plan_id. Try deduping this synonym to avoid confusion.\"\\n  }, {\\n    \"message\" : \"Duplicate synonym \\'rate_plan_label\\' found in logical table \\'dim_asset_rate_plan\\' for columns: rate_plan_name, rate_plan_type. Try deduping this synonym to avoid confusion.\"\\n  }, {\\n    \"message\" : \"Duplicate synonym \\'rate_plan_identifier\\' found in logical table \\'dim_asset_rate_plan\\' for columns: rate_plan_name, rate_plan_type, rate_plan_id. Try deduping this synonym to avoid confusion.\"\\n  }, {\\n    \"message\" : \"Duplicate synonym \\'payment_method\\' found in logical table \\'dim_asset_rate_plan\\' for columns: payment_provider, credit_card_or_at_the_hotel. Try deduping this synonym to avoid confusion.\"\\n  }, {\\n    \"message\" : \"Duplicate synonym \\'hotel_identifier\\' found in logical table \\'dim_asset_rate_plan\\' for columns: hotel_id, abstract_hotel_item_id. Try deduping this synonym to avoid confusion.\"\\n  }, {\\n    \"message\" : \"Duplicate synonym \\'total_rooms\\' found in logical table \\'fct_availability_stats\\' for columns: nb_rooms, possible_room. Try deduping this synonym to avoid confusion.\"\\n  }, {\\n    \"message\" : \"Duplicate synonym \\'available_rooms\\' found in logical table \\'fct_availability_stats\\' for columns: nb_rooms, possible_room. Try deduping this synonym to avoid confusion.\"\\n  }, {\\n    \"message\" : \"Duplicate synonym \\'total_room_count\\' found in logical table \\'fct_availability_stats\\' for columns: nb_rooms, possible_room. Try deduping this synonym to avoid confusion.\"\\n  }, {\\n    \"message\" : \"Duplicate synonym \\'complimentary_wifi\\' found in logical table \\'fct_asset_amenities\\' for columns: free_wifi, wifi_free. Try deduping this synonym to avoid confusion.\"\\n  }, {\\n    \"message\" : \"Duplicate synonym \\'wifi_included\\' found in logical table \\'fct_asset_amenities\\' for columns: free_wifi, wifi_free. Try deduping this synonym to avoid confusion.\"\\n  }, {\\n    \"message\" : \"Duplicate synonym \\'mini_fridge\\' found in logical table \\'fct_asset_amenities\\' for columns: refrigerator, fridge__mini_fridge. Try deduping this synonym to avoid confusion.\"\\n  }, {\\n    \"message\" : \"Duplicate synonym \\'mini_bar\\' found in logical table \\'fct_asset_amenities\\' for columns: refrigerator, fridge__mini_fridge, mini_fridge. Try deduping this synonym to avoid confusion.\"\\n  }, {\\n    \"message\" : \"Duplicate synonym \\'compact_refrigerator\\' found in logical table \\'fct_asset_amenities\\' for columns: fridge__mini_fridge, mini_fridge. Try deduping this synonym to avoid confusion.\"\\n  }, {\\n    \"message\" : \"Duplicate synonym \\'small_fridge\\' found in logical table \\'fct_asset_amenities\\' for columns: fridge__mini_fridge, mini_fridge. Try deduping this synonym to avoid confusion.\"\\n  }, {\\n    \"message\" : \"Duplicate synonym \\'personal_refrigerator\\' found in logical table \\'fct_asset_amenities\\' for columns: fridge__mini_fridge, mini_fridge. Try deduping this synonym to avoid confusion.\"\\n  }, {\\n    \"message\" : \"Duplicate synonym \\'compact_cooler\\' found in logical table \\'fct_asset_amenities\\' for columns: fridge__mini_fridge, mini_fridge. Try deduping this synonym to avoid confusion.\"\\n  }, {\\n    \"message\" : \"Duplicate synonym \\'hotel_denied_bookings\\' found in logical table \\'fct_order\\' for columns: refused_by_hotel_bookings, no_show_by_hotel_bookings. Try deduping this synonym to avoid confusion.\"\\n  }, {\\n    \"message\" : \"The semantic model has 11 tables, which exceeds the recommended maximum of (10)\"\\n  }, {\\n    \"message\" : \"The semantic model had 324 columns, which is more than the recommended limit of 320. Retrieving columns to those that seem most relevant to the query. This could impact accuracy.\"\\n  }, {\\n    \"message\" : \"The SQL generated initially by the model had some errors. Please check if the error may be related to issues in your semantic model definition. We will try to correct the error automatically. SQL: WITH __dim_order AS (\\\\n  SELECT\\\\n    customer_id,\\\\n    hotel_id,\\\\n    checkin_datetime\\\\n  FROM dayuse_analytics.analytics.dim_order\\\\n), __dim_hotel AS (\\\\n  SELECT\\\\n    hotel_id,\\\\n    country,\\\\n    city\\\\n  FROM dayuse_analytics.analytics.dim_hotel\\\\n)\\\\nSELECT DISTINCT\\\\n  o.customer_id\\\\nFROM __dim_order AS o\\\\nLEFT OUTER JOIN __dim_hotel AS h\\\\n  ON o.hotel_id = h.hotel_id\\\\nWHERE\\\\n  h.city = \\'Paris\\'\\\\n  AND h.country = \\'France\\'\\\\n  AND TO_DATE(o.checkin_datetime) = DATEADD(DAY, INTERVAL \\'1 DAY\\' * -1, CURRENT_DATE)\\\\nLIMIT 3. Errors: [\\\\\"SQL compilation error: error line 22 at position 66\\\\\\\\nInvalid argument types for function \\'*\\': (INTERVAL, NUMBER(1,0))\\\\\"]\"\\n  } ],\\n  \"semantic_model_selection\" : null\\n}'\n",
      "Response text: {\n",
      "  \"message\" : {\n",
      "    \"role\" : \"analyst\",\n",
      "    \"content\" : [ {\n",
      "      \"type\" : \"text\",\n",
      "      \"text\" : \"This is our interpretation of your question:\\n\\nGive me 3 customer_ids of customers who had a hotel booking in Paris, France with a check-in date of 2025-05-18 (yesterday).\"\n",
      "    }, {\n",
      "      \"type\" : \"sql\",\n",
      "      \"statement\" : \"WITH __dim_order AS (\\n  SELECT\\n    customer_id,\\n    hotel_id,\\n    checkin_datetime\\n  FROM dayuse_analytics.analytics.dim_order\\n), __dim_hotel AS (\\n  SELECT\\n    hotel_id,\\n    country,\\n    city\\n  FROM dayuse_analytics.analytics.dim_hotel\\n)\\nSELECT DISTINCT\\n  o.customer_id\\nFROM __dim_order AS o\\nLEFT OUTER JOIN __dim_hotel AS h\\n  ON o.hotel_id = h.hotel_id\\nWHERE\\n  h.city = 'Paris'\\n  AND h.country = 'France'\\n  AND TO_DATE(o.checkin_datetime) = DATEADD(DAY, -1, CURRENT_DATE)\\nLIMIT 3\\n -- Generated by Cortex Analyst\\n;\",\n",
      "      \"confidence\" : {\n",
      "        \"verified_query_used\" : null\n",
      "      }\n",
      "    } ]\n",
      "  },\n",
      "  \"request_id\" : \"988e6113-15d5-41d3-be69-772605489560\",\n",
      "  \"warnings\" : [ {\n",
      "    \"message\" : \"Right table primary keys {'hotel_id', 'order_id'} do not match the columns used relationship {'customer_id'}. Please examine the many-to-one join relationship Customer Orders to ensure it is correct. Either all primary keys must be used in the relationship, or remove the unused primary key from the table dim_order. If not fixed, this issue may result in not producing any join queries related to this relationship.\"\n",
      "  }, {\n",
      "    \"message\" : \"Right table primary keys {'rate_plan_id', 'abstract_hotel_item_id', 'hotel_id'} do not match the columns used relationship {'hotel_id'}. Please examine the many-to-one join relationship Hotel Asset Rate Plan to ensure it is correct. Either all primary keys must be used in the relationship, or remove the unused primary key from the table dim_asset_rate_plan. If not fixed, this issue may result in not producing any join queries related to this relationship.\"\n",
      "  }, {\n",
      "    \"message\" : \"Duplicate synonym 'rate_plan_key' found in logical table 'dim_asset_rate_plan' for columns: rate_plan_uuid, rate_plan_id. Try deduping this synonym to avoid confusion.\"\n",
      "  }, {\n",
      "    \"message\" : \"Duplicate synonym 'rate_plan_label' found in logical table 'dim_asset_rate_plan' for columns: rate_plan_name, rate_plan_type. Try deduping this synonym to avoid confusion.\"\n",
      "  }, {\n",
      "    \"message\" : \"Duplicate synonym 'rate_plan_identifier' found in logical table 'dim_asset_rate_plan' for columns: rate_plan_name, rate_plan_type, rate_plan_id. Try deduping this synonym to avoid confusion.\"\n",
      "  }, {\n",
      "    \"message\" : \"Duplicate synonym 'payment_method' found in logical table 'dim_asset_rate_plan' for columns: payment_provider, credit_card_or_at_the_hotel. Try deduping this synonym to avoid confusion.\"\n",
      "  }, {\n",
      "    \"message\" : \"Duplicate synonym 'hotel_identifier' found in logical table 'dim_asset_rate_plan' for columns: hotel_id, abstract_hotel_item_id. Try deduping this synonym to avoid confusion.\"\n",
      "  }, {\n",
      "    \"message\" : \"Duplicate synonym 'total_rooms' found in logical table 'fct_availability_stats' for columns: nb_rooms, possible_room. Try deduping this synonym to avoid confusion.\"\n",
      "  }, {\n",
      "    \"message\" : \"Duplicate synonym 'available_rooms' found in logical table 'fct_availability_stats' for columns: nb_rooms, possible_room. Try deduping this synonym to avoid confusion.\"\n",
      "  }, {\n",
      "    \"message\" : \"Duplicate synonym 'total_room_count' found in logical table 'fct_availability_stats' for columns: nb_rooms, possible_room. Try deduping this synonym to avoid confusion.\"\n",
      "  }, {\n",
      "    \"message\" : \"Duplicate synonym 'complimentary_wifi' found in logical table 'fct_asset_amenities' for columns: free_wifi, wifi_free. Try deduping this synonym to avoid confusion.\"\n",
      "  }, {\n",
      "    \"message\" : \"Duplicate synonym 'wifi_included' found in logical table 'fct_asset_amenities' for columns: free_wifi, wifi_free. Try deduping this synonym to avoid confusion.\"\n",
      "  }, {\n",
      "    \"message\" : \"Duplicate synonym 'mini_fridge' found in logical table 'fct_asset_amenities' for columns: refrigerator, fridge__mini_fridge. Try deduping this synonym to avoid confusion.\"\n",
      "  }, {\n",
      "    \"message\" : \"Duplicate synonym 'mini_bar' found in logical table 'fct_asset_amenities' for columns: refrigerator, fridge__mini_fridge, mini_fridge. Try deduping this synonym to avoid confusion.\"\n",
      "  }, {\n",
      "    \"message\" : \"Duplicate synonym 'compact_refrigerator' found in logical table 'fct_asset_amenities' for columns: fridge__mini_fridge, mini_fridge. Try deduping this synonym to avoid confusion.\"\n",
      "  }, {\n",
      "    \"message\" : \"Duplicate synonym 'small_fridge' found in logical table 'fct_asset_amenities' for columns: fridge__mini_fridge, mini_fridge. Try deduping this synonym to avoid confusion.\"\n",
      "  }, {\n",
      "    \"message\" : \"Duplicate synonym 'personal_refrigerator' found in logical table 'fct_asset_amenities' for columns: fridge__mini_fridge, mini_fridge. Try deduping this synonym to avoid confusion.\"\n",
      "  }, {\n",
      "    \"message\" : \"Duplicate synonym 'compact_cooler' found in logical table 'fct_asset_amenities' for columns: fridge__mini_fridge, mini_fridge. Try deduping this synonym to avoid confusion.\"\n",
      "  }, {\n",
      "    \"message\" : \"Duplicate synonym 'hotel_denied_bookings' found in logical table 'fct_order' for columns: refused_by_hotel_bookings, no_show_by_hotel_bookings. Try deduping this synonym to avoid confusion.\"\n",
      "  }, {\n",
      "    \"message\" : \"The semantic model has 11 tables, which exceeds the recommended maximum of (10)\"\n",
      "  }, {\n",
      "    \"message\" : \"The semantic model had 324 columns, which is more than the recommended limit of 320. Retrieving columns to those that seem most relevant to the query. This could impact accuracy.\"\n",
      "  }, {\n",
      "    \"message\" : \"The SQL generated initially by the model had some errors. Please check if the error may be related to issues in your semantic model definition. We will try to correct the error automatically. SQL: WITH __dim_order AS (\\n  SELECT\\n    customer_id,\\n    hotel_id,\\n    checkin_datetime\\n  FROM dayuse_analytics.analytics.dim_order\\n), __dim_hotel AS (\\n  SELECT\\n    hotel_id,\\n    country,\\n    city\\n  FROM dayuse_analytics.analytics.dim_hotel\\n)\\nSELECT DISTINCT\\n  o.customer_id\\nFROM __dim_order AS o\\nLEFT OUTER JOIN __dim_hotel AS h\\n  ON o.hotel_id = h.hotel_id\\nWHERE\\n  h.city = 'Paris'\\n  AND h.country = 'France'\\n  AND TO_DATE(o.checkin_datetime) = DATEADD(DAY, INTERVAL '1 DAY' * -1, CURRENT_DATE)\\nLIMIT 3. Errors: [\\\"SQL compilation error: error line 22 at position 66\\\\nInvalid argument types for function '*': (INTERVAL, NUMBER(1,0))\\\"]\"\n",
      "  } ],\n",
      "  \"semantic_model_selection\" : null\n",
      "}\n"
     ]
    }
   ],
   "source": [
    "analyst_response = get_analyst_response(create_user_payload(\"Give me 3 customer_ids of a customer that went in a hotel in Paris, France yesterday.\"))"
   ]
  },
  {
   "cell_type": "code",
   "execution_count": 19,
   "id": "ad96dd12-f47a-41a0-8e07-458287e52d3d",
   "metadata": {
    "language": "python",
    "name": "cell5"
   },
   "outputs": [
    {
     "data": {
      "text/plain": [
       "['This is our interpretation of your question:\\n\\nGive me 3 customer_ids of customers who had a hotel booking in Paris, France with a check-in date of 2025-05-18 (yesterday).',\n",
       " \"WITH __dim_order AS (\\n  SELECT\\n    customer_id,\\n    hotel_id,\\n    checkin_datetime\\n  FROM dayuse_analytics.analytics.dim_order\\n), __dim_hotel AS (\\n  SELECT\\n    hotel_id,\\n    country,\\n    city\\n  FROM dayuse_analytics.analytics.dim_hotel\\n)\\nSELECT DISTINCT\\n  o.customer_id\\nFROM __dim_order AS o\\nLEFT OUTER JOIN __dim_hotel AS h\\n  ON o.hotel_id = h.hotel_id\\nWHERE\\n  h.city = 'Paris'\\n  AND h.country = 'France'\\n  AND TO_DATE(o.checkin_datetime) = DATEADD(DAY, -1, CURRENT_DATE)\\nLIMIT 3\\n -- Generated by Cortex Analyst\\n;\",\n",
       " {'verified_query_used': None},\n",
       " [(7802035,), (7803803,), (7613910,)]]"
      ]
     },
     "execution_count": 19,
     "metadata": {},
     "output_type": "execute_result"
    }
   ],
   "source": [
    "def get_query_exec_result(analyst_response_json : dict):\n",
    "    # puts the sql, the thought, the sql confidency, the dataframe at the right place\n",
    "    # query_exec_result = [thought, sql_query, sql_confidence, df]\n",
    "    \n",
    "    query_exec_result=[]\n",
    "    sql_query = \"\"\n",
    "    sql_confidence = \"\"\n",
    "    thought = \"\"\n",
    "    content = analyst_response_json['message']['content']\n",
    "    for item in content :\n",
    "        if item['type'] == \"sql\":\n",
    "            sql_query = item[\"statement\"]\n",
    "            sql_confidence = item[\"confidence\"]\n",
    "        elif item['type'] == \"text\":\n",
    "            thought = item[\"text\"]\n",
    "    \n",
    "    global session\n",
    "    try:\n",
    "        df = cur.execute(sql_query).fetchall()\n",
    "        query_exec_result = [thought, sql_query, sql_confidence, df]\n",
    "        return query_exec_result\n",
    "    except SnowparkSQLException as e:\n",
    "        return str(e)\n",
    "    \n",
    "get_query_exec_result(analyst_response)"
   ]
  },
  {
   "cell_type": "markdown",
   "id": "17a4526f-8551-4cea-aa68-09225324a99a",
   "metadata": {
    "collapsed": false,
    "name": "cell9"
   },
   "source": [
    "# Utils"
   ]
  },
  {
   "cell_type": "code",
   "execution_count": 20,
   "id": "e81d4219-c7d4-47ac-9f61-7cadc1a2fa20",
   "metadata": {
    "language": "python",
    "name": "cell4"
   },
   "outputs": [],
   "source": [
    "def create_user_payload(user_text:str):    \n",
    "    # Create the payload structure\n",
    "    payload = [\n",
    "        {\n",
    "            \"role\": \"user\",\n",
    "            \"content\": [\n",
    "                {\n",
    "                    \"type\": \"text\",\n",
    "                    \"text\": user_text\n",
    "                }\n",
    "            ]\n",
    "        }\n",
    "    ]\n",
    "    \n",
    "    # Return the payload as a Python object\n",
    "    return payload"
   ]
  },
  {
   "cell_type": "code",
   "execution_count": 30,
   "id": "869a1a17-8773-4106-bb60-6da1ca07304b",
   "metadata": {
    "language": "python",
    "name": "cell22"
   },
   "outputs": [],
   "source": [
    "def create_sql_llm_query(sql_template, placeholder, system_prompt):\n",
    "    return sql_template.format(placeholder=placeholder, system_prompt=system_prompt)"
   ]
  },
  {
   "cell_type": "markdown",
   "id": "bad9f9d7-3f0f-41ad-9841-0b447014f7a9",
   "metadata": {
    "collapsed": false,
    "name": "cell23"
   },
   "source": [
    "## Utils - Iteration functions"
   ]
  },
  {
   "cell_type": "code",
   "execution_count": 31,
   "id": "addf09db-da79-4ef8-ad5b-43aba7e322d1",
   "metadata": {
    "language": "python",
    "name": "cell20"
   },
   "outputs": [],
   "source": [
    "def process_df_ids(df, prompt_template_reco):\n",
    "    hotel_reco = []\n",
    "    for index, row in df.iterrows():\n",
    "        customer_id = row['CUSTOMER_ID']\n",
    "        print(f\"Processing row {index}: {customer_id}\")\n",
    "        \n",
    "        # create the payload for a customer id\n",
    "        placeholder_reco = prompt_template_reco.format(customer_id = customer_id)\n",
    "        payload_reco = create_user_payload(placeholder_reco)\n",
    "        print(payload_reco)\n",
    "        \n",
    "        # get response : hotel to recommand\n",
    "        analyst_response_reco = get_analyst_response(payload_reco)  # inside first key \"content\"\n",
    "        print(f\"Analyst response for hotel recommendation for row {index}: {customer_id} : \\n {analyst_response_reco}\")\n",
    "        query_exec_result_hotel_reco = get_query_exec_result(analyst_response_reco)\n",
    "        \n",
    "        # query_exec_result = [thought, sql_query, sql_confidence, df] for hotel reco\n",
    "        print(\"---------- hotel recommendation res ----------\")\n",
    "        print(f\"thought:\\n {query_exec_result_hotel_reco[0]}\\n\")\n",
    "        print(f\"sql_query:\\n {query_exec_result_hotel_reco[1]}\\n\")\n",
    "        print(f\"sql_confidence:\\n {query_exec_result_hotel_reco[2]}\\n\")\n",
    "        print(f\"df_hotel_recommendation:\\n{query_exec_result_hotel_reco[3]}\\n\")\n",
    "        print(\"----------------------------------------------\")\n",
    "\n",
    "        hotel_reco.append({\n",
    "            'customer_id': customer_id,\n",
    "            'hotel_recommendation': query_exec_result_hotel_reco[3]  # get the right row of the df\n",
    "        })\n",
    "\n",
    "    return hotel_reco\n"
   ]
  },
  {
   "cell_type": "code",
   "execution_count": 32,
   "id": "ab8ca401-51d2-44e5-b028-2b5932fa7b60",
   "metadata": {
    "language": "python",
    "name": "cell24"
   },
   "outputs": [],
   "source": [
    "def generate_batch_mail(list_customer_hotel, prompt_template_mail, sql_template_mail, system_prompt):\n",
    "    # sql template mail is the sql query calling llm where we have to put the prompt \n",
    "    # prompt template mail is the template of the prompt sent to the llm where we  have to add, customer info and hotel info\n",
    "    # list_customer_hotel contains the customer info and the hotel info of hotels to recommand to them\n",
    "    \n",
    "    generated_mails = []\n",
    "    for index in list_customer_hotel:\n",
    "        # get what I need to generate the mail\n",
    "        customer_id = index[\"customer_id\"]\n",
    "        hotel_rec = index[\"hotel_recommendation\"]\n",
    "\n",
    "        #prepare the payload for the llm\n",
    "        completed_mail_prompt = prompt_template_mail.format(hotel_info=hotel_rec, customer_info=customer_id)\n",
    "        completed_sql_llm_query = create_sql_llm_query(sql_template_mail, completed_mail_prompt, system_prompt=system_prompt)\n",
    "        \n",
    "        # generate the mail for this customer\n",
    "        result = session.sql(completed_sql_llm_query).collect()\n",
    "\n",
    "        response_str = result[0]['RESPONSE']\n",
    "\n",
    "        # Parse the JSON inside the string\n",
    "        response_json = json.loads(response_str)\n",
    "        \n",
    "        # Extract the email content\n",
    "        email_content = response_json[\"choices\"][0][\"messages\"]\n",
    "        \n",
    "        generated_mails.append({\n",
    "                    'customer_id': customer_id,\n",
    "                    'mail': email_content\n",
    "                })\n",
    "        \n",
    "    return generated_mails\n",
    "\n"
   ]
  },
  {
   "cell_type": "markdown",
   "id": "3dcdc18e-0101-41aa-8ea1-7332851d6d73",
   "metadata": {
    "collapsed": false,
    "name": "cell14"
   },
   "source": [
    "# Prompt templates"
   ]
  },
  {
   "cell_type": "code",
   "execution_count": 51,
   "id": "bce58653-676b-4962-9f18-7d5c76a4b26b",
   "metadata": {
    "language": "python",
    "name": "cell13"
   },
   "outputs": [],
   "source": [
    "# prompt templates\n",
    "prompt_template_mail = \"\"\"\n",
    "Write an e-mail, recommanding these hotels:\n",
    "HOTEL INFORMATION :\n",
    "{hotel_info}\n",
    "\n",
    "to the person whose information are precised here:\n",
    "CUSTOMER INFORMATION :\n",
    "{customer_info}.\n",
    "\n",
    "Additionnal instructioin : \n",
    "You should only rely on the informations that you explicitelly know from the HOTEL INFORMATION. \n",
    "And only rely on the information present in CUSTOMER INFORMATION. Do not hallucinate data that is not in those sections.\n",
    "I want you to call the customer by its first name.  \n",
    "\"\"\"\n",
    "\n",
    "prompt_target_customer = \"\"\"Give me 3 customer_ids of customers that went in a hotel in Paris, France during the past 7 days. \n",
    "For each customer ID, also give the first name of the customer.\n",
    "\"\"\"\n",
    "\n",
    "# May use a ML model for the recommandatioin later instead of this SQL query\n",
    "prompt_template_recommand = \"\"\"Give me only 2 hotels to recommand to this customer : {customer_id}. \n",
    "The 2 hôtels have to be available during the subsequent 7 days and for a timeslot during which the client has already historically booked an offer.\n",
    "For each hotel, give the subsequent informations : hotel name, time slot, type of room, number of stars.\n",
    "\"\"\"\n",
    "\n",
    "prompt_template_SQL = \"\"\"\n",
    "    SELECT SNOWFLAKE.CORTEX.COMPLETE(\n",
    "        'llama2-70b-chat',\n",
    "        [\n",
    "            {{'role': 'system', 'content': 'You are a helpful AI assistant that is writing some emails.' }},\n",
    "            {{'role': 'user', 'content': '{placeholder}' }}\n",
    "        ], {{}}\n",
    "    ) as response;\n",
    "\"\"\""
   ]
  },
  {
   "cell_type": "markdown",
   "id": "b89c34de-38d9-49fa-804a-406408533162",
   "metadata": {
    "collapsed": false,
    "name": "cell16"
   },
   "source": [
    "# Process main"
   ]
  },
  {
   "cell_type": "markdown",
   "id": "2932689a-b706-4b63-9477-14c8ea9a7350",
   "metadata": {
    "collapsed": false,
    "name": "cell17"
   },
   "source": [
    "## Get customer targets : customer_ids list"
   ]
  },
  {
   "cell_type": "code",
   "execution_count": 13,
   "id": "084ef94d-ed5d-432b-b29e-96bc3d9db0f0",
   "metadata": {
    "codeCollapsed": false,
    "language": "python",
    "name": "cell2"
   },
   "outputs": [
    {
     "ename": "NameError",
     "evalue": "name '_snowflake' is not defined",
     "output_type": "error",
     "traceback": [
      "\u001b[31m---------------------------------------------------------------------------\u001b[39m",
      "\u001b[31mNameError\u001b[39m                                 Traceback (most recent call last)",
      "\u001b[36mCell\u001b[39m\u001b[36m \u001b[39m\u001b[32mIn[13]\u001b[39m\u001b[32m, line 3\u001b[39m\n\u001b[32m      1\u001b[39m \u001b[38;5;66;03m# get the customer targets \u001b[39;00m\n\u001b[32m      2\u001b[39m payload_customer_target = create_user_payload(prompt_target_customer)\n\u001b[32m----> \u001b[39m\u001b[32m3\u001b[39m analyst_response_customer_target = \u001b[43mget_analyst_response\u001b[49m\u001b[43m(\u001b[49m\u001b[43mpayload_customer_target\u001b[49m\u001b[43m)\u001b[49m \u001b[38;5;66;03m#inside first key \"content\"\u001b[39;00m\n\u001b[32m      4\u001b[39m \u001b[38;5;28mprint\u001b[39m(\u001b[33mf\u001b[39m\u001b[33m\"\u001b[39m\u001b[33mAnalyst response for targeted customers \u001b[39m\u001b[38;5;132;01m{\u001b[39;00manalyst_response_customer_target\u001b[38;5;132;01m}\u001b[39;00m\u001b[33m\"\u001b[39m)\n\u001b[32m      5\u001b[39m query_exec_result_customer_target = get_query_exec_result(analyst_response_customer_target)\n",
      "\u001b[36mCell\u001b[39m\u001b[36m \u001b[39m\u001b[32mIn[6]\u001b[39m\u001b[32m, line 10\u001b[39m, in \u001b[36mget_analyst_response\u001b[39m\u001b[34m(messages)\u001b[39m\n\u001b[32m      3\u001b[39m request_body = {\n\u001b[32m      4\u001b[39m     \u001b[33m\"\u001b[39m\u001b[33mmessages\u001b[39m\u001b[33m\"\u001b[39m: messages,\n\u001b[32m      5\u001b[39m     \u001b[33m\"\u001b[39m\u001b[33msemantic_model_file\u001b[39m\u001b[33m\"\u001b[39m: \u001b[33mf\u001b[39m\u001b[33m\"\u001b[39m\u001b[33m@\u001b[39m\u001b[38;5;132;01m{\u001b[39;00mAVAILABLE_SEMANTIC_MODELS_PATHS[\u001b[32m0\u001b[39m]\u001b[38;5;132;01m}\u001b[39;00m\u001b[33m\"\u001b[39m,\n\u001b[32m      6\u001b[39m }\n\u001b[32m      8\u001b[39m \u001b[38;5;66;03m# Send a POST request to the Cortex Analyst API endpoint\u001b[39;00m\n\u001b[32m      9\u001b[39m \u001b[38;5;66;03m# Adjusted to use positional arguments as per the API's requirement\u001b[39;00m\n\u001b[32m---> \u001b[39m\u001b[32m10\u001b[39m resp = \u001b[43m_snowflake\u001b[49m.send_snow_api_request(\n\u001b[32m     11\u001b[39m     \u001b[33m\"\u001b[39m\u001b[33mPOST\u001b[39m\u001b[33m\"\u001b[39m,  \u001b[38;5;66;03m# method\u001b[39;00m\n\u001b[32m     12\u001b[39m     API_ENDPOINT,  \u001b[38;5;66;03m# path\u001b[39;00m\n\u001b[32m     13\u001b[39m     {},  \u001b[38;5;66;03m# headers\u001b[39;00m\n\u001b[32m     14\u001b[39m     {},  \u001b[38;5;66;03m# params\u001b[39;00m\n\u001b[32m     15\u001b[39m     request_body,  \u001b[38;5;66;03m# body\u001b[39;00m\n\u001b[32m     16\u001b[39m     \u001b[38;5;28;01mNone\u001b[39;00m,  \u001b[38;5;66;03m# request_guid\u001b[39;00m\n\u001b[32m     17\u001b[39m     API_TIMEOUT,  \u001b[38;5;66;03m# timeout in milliseconds\u001b[39;00m\n\u001b[32m     18\u001b[39m )\n\u001b[32m     19\u001b[39m \u001b[38;5;66;03m# Content is a string with serialized JSON object\u001b[39;00m\n\u001b[32m     20\u001b[39m parsed_content = json.loads(resp[\u001b[33m\"\u001b[39m\u001b[33mcontent\u001b[39m\u001b[33m\"\u001b[39m])\n",
      "\u001b[31mNameError\u001b[39m: name '_snowflake' is not defined"
     ]
    }
   ],
   "source": [
    "# get the customer targets \n",
    "payload_customer_target = create_user_payload(prompt_target_customer)\n",
    "analyst_response_customer_target = get_analyst_response(payload_customer_target) #inside first key \"content\"\n",
    "print(f\"Analyst response for targeted customers {analyst_response_customer_target}\")\n",
    "query_exec_result_customer_target = get_query_exec_result(analyst_response_customer_target)\n",
    "\n",
    "# query_exec_result = [thought, sql_query, sql_confidence, df] for customer targets\n",
    "print(\"---------- customer targets res ----------\")\n",
    "print(f\"thougt :\\n {query_exec_result_customer_target[0]}\\n\")\n",
    "print(f\"sql_query :\\n {query_exec_result_customer_target[1]}\\n\")\n",
    "print(f\"sql_confidence :\\n {query_exec_result_customer_target[2]}\\n\")\n",
    "print(f\"df customer targers: \\n{query_exec_result_customer_target[3]}\\n\")\n",
    "print(\"--------------------------------------------\")\n",
    "\n",
    "df_customer_target = query_exec_result_customer_target[3]\n"
   ]
  },
  {
   "cell_type": "markdown",
   "id": "c8b9f3f5-e78a-494f-9560-eafeac2134d6",
   "metadata": {
    "collapsed": false,
    "name": "cell18"
   },
   "source": [
    "## Iterate over customer_id list to get hotels to recommand"
   ]
  },
  {
   "cell_type": "code",
   "execution_count": null,
   "id": "cb0b261b-d115-4dc3-af39-0d5f0ef2871e",
   "metadata": {
    "language": "python",
    "name": "cell19"
   },
   "outputs": [],
   "source": [
    "list_ids_rec = process_df_ids(df_customer_target, prompt_template_recommand)"
   ]
  },
  {
   "cell_type": "markdown",
   "id": "0a33a4c3-b887-4d66-b3e0-578e9a55eb0c",
   "metadata": {
    "collapsed": false,
    "name": "cell21"
   },
   "source": [
    "## Generate email for each customer"
   ]
  },
  {
   "cell_type": "code",
   "execution_count": 53,
   "id": "de51eec9-c49a-437e-9a8c-2f42fc99a17a",
   "metadata": {
    "language": "python",
    "name": "cell12"
   },
   "outputs": [
    {
     "ename": "NameError",
     "evalue": "name 'generate_batch_mail' is not defined",
     "output_type": "error",
     "traceback": [
      "\u001b[31m---------------------------------------------------------------------------\u001b[39m",
      "\u001b[31mNameError\u001b[39m                                 Traceback (most recent call last)",
      "\u001b[36mCell\u001b[39m\u001b[36m \u001b[39m\u001b[32mIn[53]\u001b[39m\u001b[32m, line 2\u001b[39m\n\u001b[32m      1\u001b[39m system_prompt = \u001b[33m\"\u001b[39m\u001b[33mYou are a helpful AI assistant that is writing some emails.\u001b[39m\u001b[33m\"\u001b[39m\n\u001b[32m----> \u001b[39m\u001b[32m2\u001b[39m generated_mails = \u001b[43mgenerate_batch_mail\u001b[49m(list_ids_rec, prompt_template_mail, prompt_template_SQL)\n\u001b[32m      3\u001b[39m \u001b[38;5;28mprint\u001b[39m(generated_mails)\n",
      "\u001b[31mNameError\u001b[39m: name 'generate_batch_mail' is not defined"
     ]
    }
   ],
   "source": [
    "system_prompt = \"You are a helpful AI assistant that is writing some emails.\"\n",
    "generated_mails = generate_batch_mail(list_ids_rec, prompt_template_mail, prompt_template_SQL)\n",
    "print(generated_mails)"
   ]
  },
  {
   "cell_type": "code",
   "execution_count": null,
   "id": "fe13d54b-5e12-4aed-9b6a-e27c4cee654d",
   "metadata": {
    "language": "python",
    "name": "cell25"
   },
   "outputs": [],
   "source": [
    "generated_mails"
   ]
  }
 ],
 "metadata": {
  "kernelspec": {
   "display_name": "venv",
   "language": "python",
   "name": "python3"
  },
  "language_info": {
   "codemirror_mode": {
    "name": "ipython",
    "version": 3
   },
   "file_extension": ".py",
   "mimetype": "text/x-python",
   "name": "python",
   "nbconvert_exporter": "python",
   "pygments_lexer": "ipython3",
   "version": "3.12.7"
  },
  "lastEditStatus": {
   "authorEmail": "hector.t@dayuse.com",
   "authorId": "6866376133065",
   "authorName": "HECTOR_TF",
   "lastEditTime": 1747152211112,
   "notebookId": "zyhqu2ctt7rfjva42u3e",
   "sessionId": "1f3338a1-86d5-42fe-9044-13f9f01a475e"
  }
 },
 "nbformat": 4,
 "nbformat_minor": 5
}
