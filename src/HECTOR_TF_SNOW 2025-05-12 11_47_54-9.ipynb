{
 "cells": [
  {
   "cell_type": "markdown",
   "id": "e81eda3a-7598-4864-8307-5cfe09af9473",
   "metadata": {
    "collapsed": false,
    "name": "cell7"
   },
   "source": [
    "# Configuration of session and API endpoints"
   ]
  },
  {
   "cell_type": "code",
   "execution_count": 30,
   "id": "f8840890",
   "metadata": {},
   "outputs": [
    {
     "name": "stdout",
     "output_type": "stream",
     "text": [
      "<snowflake.connector.cursor.SnowflakeCursor object at 0x104b52c60>\n"
     ]
    }
   ],
   "source": [
    "import os\n",
    "import snowflake.connector\n",
    "from dotenv import load_dotenv\n",
    "import json\n",
    "import requests\n",
    "import pandas as pd\n",
    "from typing import Dict, List, Optional, Tuple, Union\n",
    "\n",
    "load_dotenv()\n",
    "# Panda settings\n",
    "pd.set_option('display.max_columns', None)\n",
    "pd.set_option('display.max_rows', None)\n",
    "pd.set_option('display.max_colwidth', None)  # or a specific number like 1000\n",
    "pd.set_option('display.expand_frame_repr', False)\n",
    "\n",
    "def get_snowflake_connection():  \n",
    "    conn = snowflake.connector.connect(\n",
    "        user=os.getenv(\"SNOWFLAKE_USER\"),\n",
    "        password=os.getenv(\"SNOWFLAKE_PASSWORD\"),\n",
    "        account=os.getenv(\"SNOWFLAKE_ACCOUNT\"),\n",
    "        warehouse=os.getenv(\"SNOWFLAKE_WAREHOUSE\"),\n",
    "        database=os.getenv(\"SNOWFLAKE_DATABASE\"),\n",
    "        schema=os.getenv(\"SNOWFLAKE_SCHEMA\"),\n",
    "        host=os.getenv(\"SNOWFLAKE_HOST\"),\n",
    "        role=os.getenv(\"SNOWFLAKE_ROLE\"),\n",
    "        )\n",
    "    return conn\n",
    "\n",
    "# code for the analyst app \n",
    "# configurate the used API\n",
    "AVAILABLE_SEMANTIC_MODELS_PATHS = [\n",
    "    \"DAYUSE_ANALYTICS.STREAMLIT_APPS.STREAMLIT_STAGE/customer_360.yaml\"\n",
    "]\n",
    "API_ENDPOINT = \"/api/v2/cortex/analyst/message\"\n",
    "FEEDBACK_API_ENDPOINT = \"/api/v2/cortex/analyst/feedback\"\n",
    "API_TIMEOUT = 50000  # in milliseconds\n",
    "\n",
    "conn = get_snowflake_connection()\n",
    "cur = conn.cursor()\n",
    "#test connection\n",
    "print(cur.execute(\"select 1\"))\n"
   ]
  },
  {
   "cell_type": "markdown",
   "id": "19d87108",
   "metadata": {},
   "source": [
    "# 🧪 Tests with connector functions"
   ]
  },
  {
   "cell_type": "markdown",
   "id": "0793f70c",
   "metadata": {},
   "source": [
    "### Is cortex analytics app available trough this connection : YES"
   ]
  },
  {
   "cell_type": "code",
   "execution_count": 56,
   "id": "29c6e305",
   "metadata": {},
   "outputs": [],
   "source": [
    "#construire le mesage en fonction du role et du contenu\n",
    "def get_message(role, content:str):    \n",
    "    m: dict[str, Any] = {}\n",
    "    if role == \"user\":\n",
    "        m[\"role\"] = \"user\"\n",
    "    else:\n",
    "        m[\"role\"] = \"analyst\"\n",
    "    text_content = \"\\n\".join([c for c in content if isinstance(c, str)])\n",
    "    m[\"content\"] = [{\"type\": \"text\", \"text\": text_content}]\n",
    "    return m\n",
    "\n",
    "# construire conversation en fonction du message\n",
    "def get_conversation(messages: List[Dict]):\n",
    "    # itère sur la liste de messages et construit la conversation\n",
    "    return [get_message(m[\"role\"], m[\"content\"]) for m in messages]\n",
    "\n",
    "\n",
    "# envoyer la requete à l'API\n",
    "def send_request(messages: List[Dict]):\n",
    "    request_body = {\n",
    "        \"messages\": get_conversation(messages),\n",
    "        \"semantic_model_file\": f\"@{AVAILABLE_SEMANTIC_MODELS_PATHS[0]}\",\n",
    "        \"stream\": True, \n",
    "    }\n",
    "    resp = requests.post(\n",
    "        url=f\"https://{conn.host}/api/v2/cortex/analyst/message\",\n",
    "        json=request_body,\n",
    "        headers={\n",
    "            \"Authorization\": f'Snowflake Token=\"{conn.rest.token}\"',\n",
    "            \"Content-Type\": \"application/json\",\n",
    "        },\n",
    "        stream=True,\n",
    "    )\n",
    "    if resp.status_code < 400:\n",
    "        return resp  # type: ignore\n",
    "    else:\n",
    "        raise Exception(f\"Failed request with status {resp.status_code}: {resp.text}\")\n",
    "    \n",
    "\n",
    "# create a test conversation\n",
    "messages = [\n",
    "    {\"role\": \"user\", \"content\": [{\"type\": \"text\", \"text\": \"Hello, how are you?\"}]},\n",
    "    {\"role\": \"analyst\", \"content\": [{\"type\": \"text\", \"text\": \"I'm fine, thank you!\"}]},\n",
    "    {\"role\": \"user\", \"content\": [{\"type\": \"text\", \"text\": \"What is the weather in Paris?\"}]},\n",
    "]\n",
    "\n",
    "# get the response from the API\n",
    "response = send_request(messages)"
   ]
  },
  {
   "cell_type": "markdown",
   "id": "c023bc16",
   "metadata": {},
   "source": [
    "### Tests to do sql queries from the external env``\n",
    "\n",
    "working but problem : the query has to get the whole path to know where the table is from, but we'd want it to know that it's based on the dayuse_analytics.analytics."
   ]
  },
  {
   "cell_type": "code",
   "execution_count": 50,
   "id": "5c666410",
   "metadata": {},
   "outputs": [
    {
     "name": "stdout",
     "output_type": "stream",
     "text": [
      "[(7816052,), (7799287,), (2553001,)]\n"
     ]
    }
   ],
   "source": [
    "#test the sql query\n",
    "sql_query = \"\"\" \n",
    "WITH __dim_order AS (  \n",
    "  SELECT  \n",
    "    customer_id,  \n",
    "    hotel_id,  \n",
    "    checkin_date  \n",
    "  FROM dayuse_analytics.analytics.dim_order  \n",
    "), __dim_hotel AS (  \n",
    "  SELECT  \n",
    "    hotel_id,  \n",
    "    hotel_country,  \n",
    "    city  \n",
    "  FROM dayuse_analytics.analytics.dim_hotel  \n",
    "), paris_stays AS (  \n",
    "  SELECT DISTINCT  \n",
    "    o.customer_id,  \n",
    "    MAX(o.checkin_date) AS latest_checkin  \n",
    "  FROM __dim_order AS o  \n",
    "  LEFT OUTER JOIN __dim_hotel AS h  \n",
    "    ON o.hotel_id = h.hotel_id  \n",
    "  WHERE  \n",
    "    h.city = 'Paris' AND h.hotel_country = 'France'  \n",
    "  GROUP BY  \n",
    "    o.customer_id  \n",
    ")  \n",
    "SELECT  \n",
    "  ps.customer_id  \n",
    "FROM paris_stays AS ps  \n",
    "ORDER BY  \n",
    "  ps.latest_checkin DESC NULLS LAST  \n",
    "LIMIT 3\n",
    "\"\"\"\n",
    "print(cur.execute(sql_query).fetchall())\n"
   ]
  },
  {
   "cell_type": "markdown",
   "id": "7350421a",
   "metadata": {},
   "source": [
    "### Tests to call the snowflake LLMs (LLMs running in Snowflake)"
   ]
  },
  {
   "cell_type": "code",
   "execution_count": 60,
   "id": "b424c121",
   "metadata": {},
   "outputs": [
    {
     "data": {
      "text/plain": [
       "\" Subject: Exciting New Opportunity - Invitation to Join Our Team\\n\\nDear [Recipient's Name],\\n\\nI hope this email finds you well. I am thrilled to extend an invitation to you for an opportunity that I believe aligns perfectly with your skills and experience. Our team is expanding, and we are looking for a talented and dedicated individual to join us in the role of [Job Title].\\n\\nAt [Company Name], we pride ourselves on our innovative approach to [Industry/Field], and we are committed to providing our clients with the best possible solutions. In this role, you will have the opportunity to work on exciting projects, collaborate with a dynamic team, and make a significant impact on our business.\\n\\nYour responsibilities will include [List of Responsibilities], and we believe that your [List of Skills/Experience] will make you an excellent fit for this position. We are confident that your contributions will help us continue to deliver exceptional results for our clients.\\n\\nWe are offering a competitive salary and benefits package, and we are committed to providing ongoing training and development opportunities to help you grow and succeed in your career.\\n\\nIf you are interested in this opportunity, please reply to this email to confirm your availability for an interview. We will be conducting interviews on a rolling basis, so we encourage you to apply as soon as possible to secure your spot.\\n\\nWe are excited about the potential of working with you and believe that you will be a valuable addition to our team. If you have any questions, please don't hesitate to contact me directly at [Your Email Address] or [Your Phone Number].\\n\\nThank you for considering this opportunity, and we look forward to the possibility of working with you.\\n\\nBest regards,\\n\\n[Your Name]\\n[Your Title]\\n[Company Name]\\n[Company Address]\\n[Company City, State Zip]\\n[Company Phone Number]\\n[Company Email Address]\""
      ]
     },
     "execution_count": 60,
     "metadata": {},
     "output_type": "execute_result"
    }
   ],
   "source": [
    "# call LLM via complete request via SQL request \n",
    "def call_cortex_complete(cursor, prompt: str, model: str = 'mistral-7b'):\n",
    "    \"\"\"Calls the Snowflake Cortex COMPLETE function with the given prompt and model.\"\"\"\n",
    "    try:\n",
    "        # Using %s placeholders for model and prompt for security and correctness\n",
    "        query = \"SELECT SNOWFLAKE.CORTEX.COMPLETE(%s, %s) AS response;\"\n",
    "        # print(f\"Executing Cortex query with model='{model}', prompt='{prompt[:100]}...'\") # For debugging\n",
    "        cursor.execute(query, (model, prompt))\n",
    "        result = cursor.fetchone()\n",
    "        if result and result[0]:\n",
    "            return result[0]  # The response from COMPLETE is in the first column\n",
    "        else:\n",
    "            print(\"Cortex returned no result or an empty result.\")\n",
    "            return None\n",
    "    except Exception as e:\n",
    "        print(f\"Error calling Cortex COMPLETE: {e}\")\n",
    "        if hasattr(e, 'sfqid'): # Snowflake query ID can be helpful for debugging\n",
    "            print(f\"Snowflake Query ID: {e.sfqid}\")\n",
    "        return None\n",
    "    \n",
    "call_cortex_complete(cur, \n",
    "                    \"\"\"[\n",
    "            {{'role': 'system', 'content': 'You are a helpful AI assistant that is writing some emails.' }},\n",
    "            {{'role': 'user', 'content': '{placeholder}' }}\"\"\",\n",
    "                    'mistral-7b'\n",
    "                    )"
   ]
  },
  {
   "cell_type": "markdown",
   "id": "a1a8494e",
   "metadata": {},
   "source": [
    "### Open AI LLM Use\n"
   ]
  },
  {
   "cell_type": "code",
   "execution_count": 63,
   "id": "2df94c15",
   "metadata": {},
   "outputs": [
    {
     "name": "stdout",
     "output_type": "stream",
     "text": [
      "Hello! I'm just a computer program, so I don't have feelings, but I'm here and ready to help you. How can I assist you today?\n"
     ]
    }
   ],
   "source": [
    "import openai\n",
    "load_dotenv()\n",
    "openai.api_key = os.getenv(\"OPENAI_API_KEY\")\n",
    "\n",
    "def openai_llm_call(prompt: str):\n",
    "    response = openai.chat.completions.create(\n",
    "        model=\"gpt-4o-mini\",\n",
    "        messages=[{\"role\": \"user\", \"content\": prompt}]\n",
    "    )\n",
    "    return response.choices[0].message.content\n",
    "\n",
    "\n",
    "response = openai_llm_call(\"Hello, how are you?\")\n",
    "print(response)\n"
   ]
  },
  {
   "cell_type": "markdown",
   "id": "4d6d4809",
   "metadata": {},
   "source": [
    "# This is for when we're on the snowflake environment."
   ]
  },
  {
   "cell_type": "code",
   "execution_count": 5,
   "id": "3775908f-ca36-4846-8f38-5adca39217f2",
   "metadata": {
    "language": "python",
    "name": "cell1"
   },
   "outputs": [],
   "source": [
    "# -------on snowflake environment-------\n",
    "# import _snowflake  # For interacting with Snowflake-specific APIs\n",
    "# from snowflake.snowpark.context import get_active_session\n",
    "# from snowflake.snowpark.exceptions import SnowparkSQLException\n",
    "# from snowflake.cortex import Complete, ExtractAnswer, Sentiment, Summarize, Translate, ClassifyText\n",
    "# session = get_active_session()"
   ]
  },
  {
   "cell_type": "markdown",
   "id": "3a9b6b36-ee48-49a1-ad51-196ea6c66cc2",
   "metadata": {
    "collapsed": false,
    "name": "cell10"
   },
   "source": [
    "# LLM part"
   ]
  },
  {
   "cell_type": "code",
   "execution_count": 6,
   "id": "76ed160d-a85e-4303-9115-b77d84bd1b37",
   "metadata": {
    "language": "python",
    "name": "cell11"
   },
   "outputs": [],
   "source": [
    "def complete_prompts(prompt_template, sql_template, placeholder_value):\n",
    "    # une fonction qui retourne une sql query constitué du prompt template complété par le placeholder et du system prompt\n",
    "    formated_prompt = prompt_template.format(placeholder = placeholder_value)\n",
    "    formated_prompt_sql = sql_template.format(placeholder = formated_prompt)\n",
    "    \n",
    "    return formated_prompt, formated_prompt_sql"
   ]
  },
  {
   "cell_type": "code",
   "execution_count": 7,
   "id": "abdd0aec-8fbc-4257-a299-722b87b5141f",
   "metadata": {
    "language": "python",
    "name": "cell6"
   },
   "outputs": [],
   "source": [
    "def llm_call(prompt_generate_mail : str):\n",
    "    \n",
    "    generated_response = Complete(\"llama2-70b-chat\", )\n",
    "    return generated_response"
   ]
  },
  {
   "cell_type": "markdown",
   "id": "c8051e8d-8a12-426a-842f-9ba5905358d5",
   "metadata": {
    "collapsed": false,
    "name": "cell8"
   },
   "source": [
    "# Get SQL query and the DATAFRAME from its execussion"
   ]
  },
  {
   "cell_type": "code",
   "execution_count": 8,
   "id": "c695373e-ac74-4b62-a1f1-08206cbd5c81",
   "metadata": {
    "language": "python",
    "name": "cell3"
   },
   "outputs": [],
   "source": [
    "def get_analyst_response(messages: List[Dict]):\n",
    "    \n",
    "    request_body = {\n",
    "        \"messages\": messages,\n",
    "        \"semantic_model_file\": f\"@{AVAILABLE_SEMANTIC_MODELS_PATHS[0]}\",\n",
    "    }\n",
    "\n",
    "    # Send a POST request to the Cortex Analyst API endpoint\n",
    "    # Adjusted to use positional arguments as per the API's requirement\n",
    "    resp = cur.send_snow_api_request(\n",
    "        \"POST\",  # method\n",
    "        API_ENDPOINT,  # path\n",
    "        {},  # headers\n",
    "        {},  # params\n",
    "        request_body,  # body\n",
    "        None,  # request_guid\n",
    "        API_TIMEOUT,  # timeout in milliseconds\n",
    "    )\n",
    "    # Content is a string with serialized JSON object\n",
    "    parsed_content = json.loads(resp[\"content\"])\n",
    "    \n",
    "    # Check if the response is successful\n",
    "    if resp[\"status\"] < 400:\n",
    "        # Return the content of the response as a JSON object\n",
    "        return parsed_content\n",
    "    else:\n",
    "        # Craft readable error message\n",
    "        error_msg = f\"\"\"\n",
    "        🚨 An Analyst API error has occurred 🚨\n",
    "        \n",
    "        * response code: `{resp['status']}`\n",
    "        * request-id: `{parsed_content['request_id']}`\n",
    "        * error code: `{parsed_content['error_code']}`\n",
    "        \n",
    "        Message:\n",
    "        ```\n",
    "        {parsed_content['message']}\n",
    "        ```\n",
    "        \"\"\"\n",
    "        print(error_msg)\n",
    "        \n",
    "    return parsed_content\n"
   ]
  },
  {
   "cell_type": "code",
   "execution_count": 15,
   "id": "735b4b9b",
   "metadata": {},
   "outputs": [
    {
     "ename": "AttributeError",
     "evalue": "'SnowflakeConnection' object has no attribute 'send_snow_api_request'",
     "output_type": "error",
     "traceback": [
      "\u001b[31m---------------------------------------------------------------------------\u001b[39m",
      "\u001b[31mAttributeError\u001b[39m                            Traceback (most recent call last)",
      "\u001b[36mCell\u001b[39m\u001b[36m \u001b[39m\u001b[32mIn[17]\u001b[39m\u001b[32m, line 1\u001b[39m\n\u001b[32m----> \u001b[39m\u001b[32m1\u001b[39m \u001b[43mget_analyst_response\u001b[49m\u001b[43m(\u001b[49m\u001b[43mcreate_user_payload\u001b[49m\u001b[43m(\u001b[49m\u001b[33;43m\"\u001b[39;49m\u001b[33;43mGive me 3 customer_ids of a customer that went in a hotel in Paris, France yesterday.\u001b[39;49m\u001b[33;43m\"\u001b[39;49m\u001b[43m)\u001b[49m\u001b[43m)\u001b[49m\n",
      "\u001b[36mCell\u001b[39m\u001b[36m \u001b[39m\u001b[32mIn[16]\u001b[39m\u001b[32m, line 10\u001b[39m, in \u001b[36mget_analyst_response\u001b[39m\u001b[34m(messages)\u001b[39m\n\u001b[32m      3\u001b[39m request_body = {\n\u001b[32m      4\u001b[39m     \u001b[33m\"\u001b[39m\u001b[33mmessages\u001b[39m\u001b[33m\"\u001b[39m: messages,\n\u001b[32m      5\u001b[39m     \u001b[33m\"\u001b[39m\u001b[33msemantic_model_file\u001b[39m\u001b[33m\"\u001b[39m: \u001b[33mf\u001b[39m\u001b[33m\"\u001b[39m\u001b[33m@\u001b[39m\u001b[38;5;132;01m{\u001b[39;00mAVAILABLE_SEMANTIC_MODELS_PATHS[\u001b[32m0\u001b[39m]\u001b[38;5;132;01m}\u001b[39;00m\u001b[33m\"\u001b[39m,\n\u001b[32m      6\u001b[39m }\n\u001b[32m      8\u001b[39m \u001b[38;5;66;03m# Send a POST request to the Cortex Analyst API endpoint\u001b[39;00m\n\u001b[32m      9\u001b[39m \u001b[38;5;66;03m# Adjusted to use positional arguments as per the API's requirement\u001b[39;00m\n\u001b[32m---> \u001b[39m\u001b[32m10\u001b[39m resp = \u001b[43mconn\u001b[49m\u001b[43m.\u001b[49m\u001b[43msend_snow_api_request\u001b[49m(\n\u001b[32m     11\u001b[39m     \u001b[33m\"\u001b[39m\u001b[33mPOST\u001b[39m\u001b[33m\"\u001b[39m,  \u001b[38;5;66;03m# method\u001b[39;00m\n\u001b[32m     12\u001b[39m     API_ENDPOINT,  \u001b[38;5;66;03m# path\u001b[39;00m\n\u001b[32m     13\u001b[39m     {},  \u001b[38;5;66;03m# headers\u001b[39;00m\n\u001b[32m     14\u001b[39m     {},  \u001b[38;5;66;03m# params\u001b[39;00m\n\u001b[32m     15\u001b[39m     request_body,  \u001b[38;5;66;03m# body\u001b[39;00m\n\u001b[32m     16\u001b[39m     \u001b[38;5;28;01mNone\u001b[39;00m,  \u001b[38;5;66;03m# request_guid\u001b[39;00m\n\u001b[32m     17\u001b[39m     API_TIMEOUT,  \u001b[38;5;66;03m# timeout in milliseconds\u001b[39;00m\n\u001b[32m     18\u001b[39m )\n\u001b[32m     19\u001b[39m \u001b[38;5;66;03m# Content is a string with serialized JSON object\u001b[39;00m\n\u001b[32m     20\u001b[39m parsed_content = json.loads(resp[\u001b[33m\"\u001b[39m\u001b[33mcontent\u001b[39m\u001b[33m\"\u001b[39m])\n",
      "\u001b[31mAttributeError\u001b[39m: 'SnowflakeConnection' object has no attribute 'send_snow_api_request'"
     ]
    }
   ],
   "source": [
    "get_analyst_response(create_user_payload(\"Give me 3 customer_ids of a customer that went in a hotel in Paris, France yesterday.\"))"
   ]
  },
  {
   "cell_type": "code",
   "execution_count": 10,
   "id": "ad96dd12-f47a-41a0-8e07-458287e52d3d",
   "metadata": {
    "language": "python",
    "name": "cell5"
   },
   "outputs": [],
   "source": [
    "def get_query_exec_result(analyst_response_json : dict):\n",
    "    # puts the sql, the thought, the sql confidency, the dataframe at the right place\n",
    "    # query_exec_result = [thought, sql_query, sql_confidence, df]\n",
    "    \n",
    "    query_exec_result=[]\n",
    "    sql_query = \"\"\n",
    "    sql_confidence = \"\"\n",
    "    thought = \"\"\n",
    "    content = analyst_response_json['message']['content']\n",
    "    for item in content :\n",
    "        if item['type'] == \"sql\":\n",
    "            sql_query = item[\"statement\"]\n",
    "            sql_confidence = item[\"confidence\"]\n",
    "        elif item['type'] == \"text\":\n",
    "            thought = item[\"text\"]\n",
    "    \n",
    "    global session\n",
    "    try:\n",
    "        df = session.sql(sql_query).to_pandas()\n",
    "        query_exec_result = [thought, sql_query, sql_confidence, df]\n",
    "        return query_exec_result\n",
    "    except SnowparkSQLException as e:\n",
    "        return str(e)"
   ]
  },
  {
   "cell_type": "markdown",
   "id": "17a4526f-8551-4cea-aa68-09225324a99a",
   "metadata": {
    "collapsed": false,
    "name": "cell9"
   },
   "source": [
    "# Utils"
   ]
  },
  {
   "cell_type": "code",
   "execution_count": 59,
   "id": "e81d4219-c7d4-47ac-9f61-7cadc1a2fa20",
   "metadata": {
    "language": "python",
    "name": "cell4"
   },
   "outputs": [],
   "source": [
    "def create_user_payload(user_text:str):    \n",
    "    # Create the payload structure\n",
    "    payload = [\n",
    "        {\n",
    "            \"role\": \"user\",\n",
    "            \"content\": [\n",
    "                {\n",
    "                    \"type\": \"text\",\n",
    "                    \"text\": user_text\n",
    "                }\n",
    "            ]\n",
    "        }\n",
    "    ]\n",
    "    \n",
    "    # Return the payload as a Python object\n",
    "    return payload"
   ]
  },
  {
   "cell_type": "code",
   "execution_count": 52,
   "id": "869a1a17-8773-4106-bb60-6da1ca07304b",
   "metadata": {
    "language": "python",
    "name": "cell22"
   },
   "outputs": [],
   "source": [
    "def create_sql_llm_query(sql_template, placeholder, system_prompt):\n",
    "    return sql_template.format(placeholder=placeholder, system_prompt=system_prompt)"
   ]
  },
  {
   "cell_type": "markdown",
   "id": "bad9f9d7-3f0f-41ad-9841-0b447014f7a9",
   "metadata": {
    "collapsed": false,
    "name": "cell23"
   },
   "source": [
    "## Utils - Iteration functions"
   ]
  },
  {
   "cell_type": "code",
   "execution_count": 58,
   "id": "addf09db-da79-4ef8-ad5b-43aba7e322d1",
   "metadata": {
    "language": "python",
    "name": "cell20"
   },
   "outputs": [],
   "source": [
    "def process_df_ids(df, prompt_template_reco):\n",
    "    hotel_reco = []\n",
    "    for index, row in df.iterrows():\n",
    "        customer_id = row['CUSTOMER_ID']\n",
    "        print(f\"Processing row {index}: {customer_id}\")\n",
    "        \n",
    "        # create the payload for a customer id\n",
    "        placeholder_reco = prompt_template_reco.format(customer_id = customer_id)\n",
    "        payload_reco = create_user_payload(placeholder_reco)\n",
    "        print(payload_reco)\n",
    "        \n",
    "        # get response : hotel to recommand\n",
    "        analyst_response_reco = get_analyst_response(payload_reco)  # inside first key \"content\"\n",
    "        print(f\"Analyst response for hotel recommendation for row {index}: {customer_id} : \\n {analyst_response_reco}\")\n",
    "        query_exec_result_hotel_reco = get_query_exec_result(analyst_response_reco)\n",
    "        \n",
    "        # query_exec_result = [thought, sql_query, sql_confidence, df] for hotel reco\n",
    "        print(\"---------- hotel recommendation res ----------\")\n",
    "        print(f\"thought:\\n {query_exec_result_hotel_reco[0]}\\n\")\n",
    "        print(f\"sql_query:\\n {query_exec_result_hotel_reco[1]}\\n\")\n",
    "        print(f\"sql_confidence:\\n {query_exec_result_hotel_reco[2]}\\n\")\n",
    "        print(f\"df_hotel_recommendation:\\n{query_exec_result_hotel_reco[3]}\\n\")\n",
    "        print(\"----------------------------------------------\")\n",
    "\n",
    "        hotel_reco.append({\n",
    "            'customer_id': customer_id,\n",
    "            'hotel_recommendation': query_exec_result_hotel_reco[3]  # get the right row of the df\n",
    "        })\n",
    "\n",
    "    return hotel_reco\n"
   ]
  },
  {
   "cell_type": "code",
   "execution_count": 57,
   "id": "ab8ca401-51d2-44e5-b028-2b5932fa7b60",
   "metadata": {
    "language": "python",
    "name": "cell24"
   },
   "outputs": [],
   "source": [
    "def generate_batch_mail(list_customer_hotel, prompt_template_mail, sql_template_mail, system_prompt):\n",
    "    # sql template mail is the sql query calling llm where we have to put the prompt \n",
    "    # prompt template mail is the template of the prompt sent to the llm where we  have to add, customer info and hotel info\n",
    "    # list_customer_hotel contains the customer info and the hotel info of hotels to recommand to them\n",
    "    \n",
    "    generated_mails = []\n",
    "    for index in list_customer_hotel:\n",
    "        # get what I need to generate the mail\n",
    "        customer_id = index[\"customer_id\"]\n",
    "        hotel_rec = index[\"hotel_recommendation\"]\n",
    "\n",
    "        #prepare the payload for the llm\n",
    "        completed_mail_prompt = prompt_template_mail.format(hotel_info=hotel_rec, customer_info=customer_id)\n",
    "        completed_sql_llm_query = create_sql_llm_query(sql_template_mail, completed_mail_prompt, system_prompt=system_prompt)\n",
    "        \n",
    "        # generate the mail for this customer\n",
    "        result = session.sql(completed_sql_llm_query).collect()\n",
    "\n",
    "        response_str = result[0]['RESPONSE']\n",
    "\n",
    "        # Parse the JSON inside the string\n",
    "        response_json = json.loads(response_str)\n",
    "        \n",
    "        # Extract the email content\n",
    "        email_content = response_json[\"choices\"][0][\"messages\"]\n",
    "        \n",
    "        generated_mails.append({\n",
    "                    'customer_id': customer_id,\n",
    "                    'mail': email_content\n",
    "                })\n",
    "        \n",
    "    return generated_mails\n",
    "\n"
   ]
  },
  {
   "cell_type": "markdown",
   "id": "3dcdc18e-0101-41aa-8ea1-7332851d6d73",
   "metadata": {
    "collapsed": false,
    "name": "cell14"
   },
   "source": [
    "# Prompt templates"
   ]
  },
  {
   "cell_type": "code",
   "execution_count": 51,
   "id": "bce58653-676b-4962-9f18-7d5c76a4b26b",
   "metadata": {
    "language": "python",
    "name": "cell13"
   },
   "outputs": [],
   "source": [
    "# prompt templates\n",
    "prompt_template_mail = \"\"\"\n",
    "Write an e-mail, recommanding these hotels:\n",
    "{hotel_info}\n",
    "to the person whose information are precised here:\n",
    "{customer_info}\n",
    "\"\"\"\n",
    "\n",
    "prompt_target_customer = \"Give me 3 customer_ids of a customer that went in a hotel in Paris, France yesterday.\"\n",
    "\n",
    "# May use a ML model for the recommandatioin later instead of this SQL query\n",
    "prompt_template_recommand = \"Give me only 2 hotels to recommand to this customer : {customer_id}. The 2 hôtels have to be available during the subsequent 7 days and for a timeslot during which the client has already historically booked an offer.\"\n",
    "\n",
    "prompt_template_SQL = \"\"\"\n",
    "    SELECT SNOWFLAKE.CORTEX.COMPLETE(\n",
    "        'llama2-70b-chat',\n",
    "        [\n",
    "            {{'role': 'system', 'content': '{system_prompt}' }},\n",
    "            {{'role': 'user', 'content': '{placeholder}' }}\n",
    "        ], {{}}\n",
    "    ) as response;\n",
    "\"\"\""
   ]
  },
  {
   "cell_type": "markdown",
   "id": "b89c34de-38d9-49fa-804a-406408533162",
   "metadata": {
    "collapsed": false,
    "name": "cell16"
   },
   "source": [
    "# Process main"
   ]
  },
  {
   "cell_type": "markdown",
   "id": "2932689a-b706-4b63-9477-14c8ea9a7350",
   "metadata": {
    "collapsed": false,
    "name": "cell17"
   },
   "source": [
    "## Get customer targets : customer_ids list"
   ]
  },
  {
   "cell_type": "code",
   "execution_count": 13,
   "id": "084ef94d-ed5d-432b-b29e-96bc3d9db0f0",
   "metadata": {
    "codeCollapsed": false,
    "language": "python",
    "name": "cell2"
   },
   "outputs": [
    {
     "ename": "NameError",
     "evalue": "name '_snowflake' is not defined",
     "output_type": "error",
     "traceback": [
      "\u001b[31m---------------------------------------------------------------------------\u001b[39m",
      "\u001b[31mNameError\u001b[39m                                 Traceback (most recent call last)",
      "\u001b[36mCell\u001b[39m\u001b[36m \u001b[39m\u001b[32mIn[13]\u001b[39m\u001b[32m, line 3\u001b[39m\n\u001b[32m      1\u001b[39m \u001b[38;5;66;03m# get the customer targets \u001b[39;00m\n\u001b[32m      2\u001b[39m payload_customer_target = create_user_payload(prompt_target_customer)\n\u001b[32m----> \u001b[39m\u001b[32m3\u001b[39m analyst_response_customer_target = \u001b[43mget_analyst_response\u001b[49m\u001b[43m(\u001b[49m\u001b[43mpayload_customer_target\u001b[49m\u001b[43m)\u001b[49m \u001b[38;5;66;03m#inside first key \"content\"\u001b[39;00m\n\u001b[32m      4\u001b[39m \u001b[38;5;28mprint\u001b[39m(\u001b[33mf\u001b[39m\u001b[33m\"\u001b[39m\u001b[33mAnalyst response for targeted customers \u001b[39m\u001b[38;5;132;01m{\u001b[39;00manalyst_response_customer_target\u001b[38;5;132;01m}\u001b[39;00m\u001b[33m\"\u001b[39m)\n\u001b[32m      5\u001b[39m query_exec_result_customer_target = get_query_exec_result(analyst_response_customer_target)\n",
      "\u001b[36mCell\u001b[39m\u001b[36m \u001b[39m\u001b[32mIn[6]\u001b[39m\u001b[32m, line 10\u001b[39m, in \u001b[36mget_analyst_response\u001b[39m\u001b[34m(messages)\u001b[39m\n\u001b[32m      3\u001b[39m request_body = {\n\u001b[32m      4\u001b[39m     \u001b[33m\"\u001b[39m\u001b[33mmessages\u001b[39m\u001b[33m\"\u001b[39m: messages,\n\u001b[32m      5\u001b[39m     \u001b[33m\"\u001b[39m\u001b[33msemantic_model_file\u001b[39m\u001b[33m\"\u001b[39m: \u001b[33mf\u001b[39m\u001b[33m\"\u001b[39m\u001b[33m@\u001b[39m\u001b[38;5;132;01m{\u001b[39;00mAVAILABLE_SEMANTIC_MODELS_PATHS[\u001b[32m0\u001b[39m]\u001b[38;5;132;01m}\u001b[39;00m\u001b[33m\"\u001b[39m,\n\u001b[32m      6\u001b[39m }\n\u001b[32m      8\u001b[39m \u001b[38;5;66;03m# Send a POST request to the Cortex Analyst API endpoint\u001b[39;00m\n\u001b[32m      9\u001b[39m \u001b[38;5;66;03m# Adjusted to use positional arguments as per the API's requirement\u001b[39;00m\n\u001b[32m---> \u001b[39m\u001b[32m10\u001b[39m resp = \u001b[43m_snowflake\u001b[49m.send_snow_api_request(\n\u001b[32m     11\u001b[39m     \u001b[33m\"\u001b[39m\u001b[33mPOST\u001b[39m\u001b[33m\"\u001b[39m,  \u001b[38;5;66;03m# method\u001b[39;00m\n\u001b[32m     12\u001b[39m     API_ENDPOINT,  \u001b[38;5;66;03m# path\u001b[39;00m\n\u001b[32m     13\u001b[39m     {},  \u001b[38;5;66;03m# headers\u001b[39;00m\n\u001b[32m     14\u001b[39m     {},  \u001b[38;5;66;03m# params\u001b[39;00m\n\u001b[32m     15\u001b[39m     request_body,  \u001b[38;5;66;03m# body\u001b[39;00m\n\u001b[32m     16\u001b[39m     \u001b[38;5;28;01mNone\u001b[39;00m,  \u001b[38;5;66;03m# request_guid\u001b[39;00m\n\u001b[32m     17\u001b[39m     API_TIMEOUT,  \u001b[38;5;66;03m# timeout in milliseconds\u001b[39;00m\n\u001b[32m     18\u001b[39m )\n\u001b[32m     19\u001b[39m \u001b[38;5;66;03m# Content is a string with serialized JSON object\u001b[39;00m\n\u001b[32m     20\u001b[39m parsed_content = json.loads(resp[\u001b[33m\"\u001b[39m\u001b[33mcontent\u001b[39m\u001b[33m\"\u001b[39m])\n",
      "\u001b[31mNameError\u001b[39m: name '_snowflake' is not defined"
     ]
    }
   ],
   "source": [
    "# get the customer targets \n",
    "payload_customer_target = create_user_payload(prompt_target_customer)\n",
    "analyst_response_customer_target = get_analyst_response(payload_customer_target) #inside first key \"content\"\n",
    "print(f\"Analyst response for targeted customers {analyst_response_customer_target}\")\n",
    "query_exec_result_customer_target = get_query_exec_result(analyst_response_customer_target)\n",
    "\n",
    "# query_exec_result = [thought, sql_query, sql_confidence, df] for customer targets\n",
    "print(\"---------- customer targets res ----------\")\n",
    "print(f\"thougt :\\n {query_exec_result_customer_target[0]}\\n\")\n",
    "print(f\"sql_query :\\n {query_exec_result_customer_target[1]}\\n\")\n",
    "print(f\"sql_confidence :\\n {query_exec_result_customer_target[2]}\\n\")\n",
    "print(f\"df customer targers: \\n{query_exec_result_customer_target[3]}\\n\")\n",
    "print(\"--------------------------------------------\")\n",
    "\n",
    "df_customer_target = query_exec_result_customer_target[3]\n"
   ]
  },
  {
   "cell_type": "markdown",
   "id": "c8b9f3f5-e78a-494f-9560-eafeac2134d6",
   "metadata": {
    "collapsed": false,
    "name": "cell18"
   },
   "source": [
    "## Iterate over customer_id list to get hotels to recommand"
   ]
  },
  {
   "cell_type": "code",
   "execution_count": null,
   "id": "cb0b261b-d115-4dc3-af39-0d5f0ef2871e",
   "metadata": {
    "language": "python",
    "name": "cell19"
   },
   "outputs": [],
   "source": [
    "list_ids_rec = process_df_ids(df_customer_target, prompt_template_recommand)"
   ]
  },
  {
   "cell_type": "markdown",
   "id": "0a33a4c3-b887-4d66-b3e0-578e9a55eb0c",
   "metadata": {
    "collapsed": false,
    "name": "cell21"
   },
   "source": [
    "## Generate email for each customer"
   ]
  },
  {
   "cell_type": "code",
   "execution_count": 53,
   "id": "de51eec9-c49a-437e-9a8c-2f42fc99a17a",
   "metadata": {
    "language": "python",
    "name": "cell12"
   },
   "outputs": [
    {
     "ename": "NameError",
     "evalue": "name 'generate_batch_mail' is not defined",
     "output_type": "error",
     "traceback": [
      "\u001b[31m---------------------------------------------------------------------------\u001b[39m",
      "\u001b[31mNameError\u001b[39m                                 Traceback (most recent call last)",
      "\u001b[36mCell\u001b[39m\u001b[36m \u001b[39m\u001b[32mIn[53]\u001b[39m\u001b[32m, line 2\u001b[39m\n\u001b[32m      1\u001b[39m system_prompt = \u001b[33m\"\u001b[39m\u001b[33mYou are a helpful AI assistant that is writing some emails.\u001b[39m\u001b[33m\"\u001b[39m\n\u001b[32m----> \u001b[39m\u001b[32m2\u001b[39m generated_mails = \u001b[43mgenerate_batch_mail\u001b[49m(list_ids_rec, prompt_template_mail, prompt_template_SQL)\n\u001b[32m      3\u001b[39m \u001b[38;5;28mprint\u001b[39m(generated_mails)\n",
      "\u001b[31mNameError\u001b[39m: name 'generate_batch_mail' is not defined"
     ]
    }
   ],
   "source": [
    "system_prompt = \"You are a helpful AI assistant that is writing some emails.\"\n",
    "generated_mails = generate_batch_mail(list_ids_rec, prompt_template_mail, prompt_template_SQL)\n",
    "print(generated_mails)"
   ]
  },
  {
   "cell_type": "code",
   "execution_count": null,
   "id": "fe13d54b-5e12-4aed-9b6a-e27c4cee654d",
   "metadata": {
    "language": "python",
    "name": "cell25"
   },
   "outputs": [],
   "source": [
    "generated_mails"
   ]
  }
 ],
 "metadata": {
  "kernelspec": {
   "display_name": "venv",
   "language": "python",
   "name": "python3"
  },
  "language_info": {
   "codemirror_mode": {
    "name": "ipython",
    "version": 3
   },
   "file_extension": ".py",
   "mimetype": "text/x-python",
   "name": "python",
   "nbconvert_exporter": "python",
   "pygments_lexer": "ipython3",
   "version": "3.12.7"
  },
  "lastEditStatus": {
   "authorEmail": "hector.t@dayuse.com",
   "authorId": "6866376133065",
   "authorName": "HECTOR_TF",
   "lastEditTime": 1747152211112,
   "notebookId": "zyhqu2ctt7rfjva42u3e",
   "sessionId": "1f3338a1-86d5-42fe-9044-13f9f01a475e"
  }
 },
 "nbformat": 4,
 "nbformat_minor": 5
}
